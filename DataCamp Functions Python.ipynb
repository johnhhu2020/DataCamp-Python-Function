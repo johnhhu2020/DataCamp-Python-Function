{
 "cells": [
  {
   "cell_type": "markdown",
   "id": "f544d5dc-0a12-46a0-81a2-24907ce468b1",
   "metadata": {},
   "source": [
    "## writing-functions-in-python/best-practices\n",
    "\n"
   ]
  },
  {
   "cell_type": "markdown",
   "id": "ee3660c7-430d-4620-ad0e-c5dede854619",
   "metadata": {},
   "source": [
    "## Best Practices\n",
    "Free\n",
    "The goal of this course is to transform you into a Python expert, and so the first chapter starts off with best practices when writing functions. You'll cover docstrings and why they matter and how to know when you need to turn a chunk of code into a function. You will also learn the details of how Python passes arguments to functions, as well as some common gotchas that can cause debugging headaches when calling functions.\n",
    "Play Chapter Now\n",
    "\n",
    "Docstrings       50 xp\n",
    "Crafting a docstring       100 xp\n",
    "Retrieving docstrings       100 xp\n",
    "Docstrings to the rescue!       50 xp\n",
    "DRY and \"Do One Thing\"       50 xp\n",
    "Extract a function       100 xp\n",
    "Split up a function       100 xp\n",
    "Pass by assignment       50 xp\n",
    "Mutable or immutable?       50 xp\n",
    "Best practice for default arguments       100 xp"
   ]
  },
  {
   "cell_type": "markdown",
   "id": "ea4d81ac-cd68-4898-aef8-f2604b662267",
   "metadata": {},
   "source": [
    "## Context Managers\n",
    "If you've ever seen the \"with\" keyword in Python and wondered what its deal was, then this is the chapter for you! Context managers are a convenient way to provide connections in Python and guarantee that those connections get cleaned up when you are done using them. This chapter will show you how to use context managers, as well as how to write your own.\n",
    "Play Chapter Now\n",
    "\n",
    "Using context managers       50 xp\n",
    "The number of cats       100 xp\n",
    "The speed of cats       100 xp\n",
    "Writing context managers       50 xp\n",
    "The timer() context manager       100 xp\n",
    "A read-only open() context manager       100 xp\n",
    "Advanced topics       50 xp\n",
    "Context manager use cases       50 xp\n",
    "Scraping the NASDAQ       100 xp\n",
    "Changing the working directory       100 xp"
   ]
  },
  {
   "cell_type": "markdown",
   "id": "2b88d9ac-0ec4-4cb6-ba86-79c41cd935d2",
   "metadata": {},
   "source": [
    "## Decorators\n",
    "Decorators are an extremely powerful concept in Python. They allow you to modify the behavior of a function without changing the code of the function itself. This chapter will lay the foundational concepts needed to thoroughly understand decorators (functions as objects, scope, and closures), and give you a good introduction into how decorators are used and defined. This deep dive into Python internals will set you up to be a superstar Pythonista.\n",
    "Play Chapter Now\n",
    "\n",
    "Functions are objects       50 xp\n",
    "Building a command line data app       100 xp\n",
    "Reviewing your co-worker's code       100 xp\n",
    "Returning functions for a math game       100 xp\n",
    "Scope       50 xp\n",
    "Understanding scope       50 xp\n",
    "Modifying variables outside local scope       100 xp\n",
    "Closures       50 xp\n",
    "Checking for closure       100 xp\n",
    "Closures keep your values safe       100 xp\n",
    "Decorators       50 xp\n",
    "Using decorator syntax       100 xp\n",
    "Defining a decorator       100 xp"
   ]
  },
  {
   "cell_type": "markdown",
   "id": "67a8d41c-55a6-4109-8129-aa2bbf0d9590",
   "metadata": {},
   "source": [
    "## More on Decorators\n",
    "Now that you understand how decorators work under the hood, this chapter gives you a bunch of real-world examples of when and how you would write decorators in your own code. You will also learn advanced decorator concepts like how to preserve the metadata of your decorated functions and how to write decorators that take arguments.\n",
    "Play Chapter Now\n",
    "\n",
    "Real-world examples       50 xp\n",
    "Print the return type       100 xp\n",
    "Counter       100 xp\n",
    "Decorators and metadata       50 xp\n",
    "Preserving docstrings when decorating functions       100 xp\n",
    "Measuring decorator overhead       100 xp\n",
    "Decorators that take arguments       50 xp\n",
    "Run_n_times()       100 xp\n",
    "HTML Generator       100 xp\n",
    "Timeout(): a real world example       50 xp\n",
    "Tag your functions       100 xp\n",
    "Check the return type       100 xp\n",
    "Great job!       50 xp"
   ]
  },
  {
   "cell_type": "code",
   "execution_count": null,
   "id": "64a0a052-9af3-4275-8377-f5f405b4d827",
   "metadata": {},
   "outputs": [],
   "source": []
  },
  {
   "cell_type": "markdown",
   "id": "9164f43e-4864-461c-ba3a-7181067bb6c5",
   "metadata": {},
   "source": [
    "## Docstrings\n",
    "\n",
    "\n",
    "\n",
    "it should be imperative language:\n",
    "    for example: split the dataframe and stack the columns.\n",
    "    instead of \"this function will split the dataframe and stack the columns\"\n",
    "\n",
    "'''\n",
    "1, description of what the function does,\n",
    "2, description of the arguments, if any,\n",
    "3, description of return values, if any,\n",
    "4, descriptions of error raised, if any,\n",
    "5, optional extra notes or example of useage.\n",
    "'''\n"
   ]
  },
  {
   "cell_type": "code",
   "execution_count": null,
   "id": "34baa86b-9de3-4826-a818-a0a32e670e59",
   "metadata": {},
   "outputs": [],
   "source": [
    "def split_and_stack(df, new_names):\n",
    "    '''\n",
    "    split a DataFrame's columns into two halves and then stack\n",
    "    them vertically, retuning a new DataFrame with 'new_names' as the column names.\n",
    "    \n",
    "    Args:\n",
    "    df (DataFrame): the DataFrameto split.\n",
    "    new_names (interableof str): the column names for the new DataFrame\n",
    "    \n",
    "    Returns:\n",
    "        DataFrame\n",
    "    '''\n",
    "    \n",
    "    half = int(len(df.columns)/2)\n",
    "    left = df.iloc[:,:half]\n",
    "    right = df.iloc[:,half:]\n",
    "    return pd.DataFrame(\n",
    "        data = np.vstack([left.values, right.values]), columns = new_names)\n",
    "\n",
    "\n"
   ]
  },
  {
   "cell_type": "code",
   "execution_count": null,
   "id": "d22e0258-f40c-4e70-9599-7f495c3efec0",
   "metadata": {},
   "outputs": [],
   "source": [
    "Google style:\n",
    "    \n",
    "    \n",
    "def function(arg_1, arg_2=42):\n",
    "    '''Description of what the function does\n",
    "    \n",
    "    Args:\n",
    "      arg_1 (str): Description of arg_1 that can be break into next line if needed.\n",
    "      arg_2 (int, optional): Write optional when an argument has a default value\n",
    "      \n",
    "    Returns:\n",
    "      bool: Optional description of the return value\n",
    "      Extra lines are not indented\n",
    "      \n",
    "    Raise:\n",
    "      ValueError: Include any error types that the fuction intentional raise\n",
    "      \n",
    "    Notes:\n",
    "      see https:www.datacamp.com/community/tutorials/docstrings-python\n",
    "      for more info\n",
    "    '''"
   ]
  },
  {
   "cell_type": "code",
   "execution_count": null,
   "id": "8d0a25b5-5d68-4d87-8ff9-189006945306",
   "metadata": {},
   "outputs": [],
   "source": [
    "Numpydoc style:\n",
    "    \n",
    "    \n",
    "def function(arg_1, arg_2=42):\n",
    "    \n",
    "    '''\n",
    "    Description of what the function does\n",
    "    \n",
    "    \n",
    "    Parameters\n",
    "    ----------\n",
    "    arg_1 : expected type of arg_1\n",
    "      Description of arg_1\n",
    "    arg_2 : int, optional\n",
    "      Write optional when an argument has a default value\n",
    "      Default=42\n",
    "      \n",
    "      \n",
    "    Returns\n",
    "    -------\n",
    "    The type of the return value\n",
    "      Can include a description of the return value\n",
    "      Replace \"Return\" with \"Yields\" if the function is a generator\n",
    "    \n",
    "    '''"
   ]
  },
  {
   "cell_type": "code",
   "execution_count": 5,
   "id": "b8182bb3-cf3c-4250-9b23-5f460f8c4a1c",
   "metadata": {},
   "outputs": [
    {
     "name": "stdout",
     "output_type": "stream",
     "text": [
      "Return the answer to life, the universe, and everything\n",
      "    \n",
      "    \n",
      "    Returns:\n",
      "      int\n",
      "      \n",
      "    \n",
      "Return the answer to life, the universe, and everything\n",
      "\n",
      "\n",
      "Returns:\n",
      "  int\n",
      "  \n"
     ]
    }
   ],
   "source": [
    "# Retrieving docstrings\n",
    "\n",
    "\n",
    "def the_answer():\n",
    "    '''Return the answer to life, the universe, and everything\n",
    "    \n",
    "    \n",
    "    Returns:\n",
    "      int\n",
    "      \n",
    "    '''\n",
    "    return 42\n",
    "\n",
    "\n",
    "\n",
    "print(the_answer.__doc__)\n",
    "\n",
    "\n",
    "import inspect\n",
    "print(inspect.getdoc(the_answer))"
   ]
  },
  {
   "cell_type": "markdown",
   "id": "9b525cda-d6b8-401f-a6b1-06eef3286ddd",
   "metadata": {},
   "source": [
    "## Crafting a docstring\n",
    "\n",
    "You've decided to write the world's greatest open-source natural language processing Python package. It will revolutionize working with free-form text, the way numpy did for arrays, pandas did for tabular data, and scikit-learn did for machine learning.\n",
    "\n",
    "The first function you write is count_letter(). It takes a string and a single letter and returns the number of times the letter appears in the string. You want the users of your open-source package to be able to understand how this function works easily, so you will need to give it a docstring. Build up a Google Style docstring for this function by following these steps.\n",
    "\n",
    "\n",
    "Copy the following string and add it as the docstring for the function: Count the number of times `letter` appears in `content`."
   ]
  },
  {
   "cell_type": "code",
   "execution_count": 13,
   "id": "2b140518-5d2d-4f14-8a97-a16a1a4b9385",
   "metadata": {},
   "outputs": [
    {
     "name": "stdout",
     "output_type": "stream",
     "text": [
      "8\n",
      "Count the number of times 'letter' appears in 'content'\n",
      "    \n",
      "    Args:\n",
      "      content (str): The paragraph content of a doc or article\n",
      "      letter (str): Any letter of 26 letters in alphabet\n",
      "  \n",
      "    Return:\n",
      "      int: The times letter appeaded in whole content\n",
      "  \n",
      "    Raise:\n",
      "      ValueError: Letter should be one character string\n",
      "  \n",
      "    Note:\n",
      "      see https://campus.datacamp.com/courses/writing-functions-in-python/best-practices?ex=2\n",
      "      for more info\n",
      "    \n"
     ]
    }
   ],
   "source": [
    "# Add a docstring to count_letter()\n",
    "def count_letter(content, letter):\n",
    "    '''Count the number of times 'letter' appears in 'content'\n",
    "    \n",
    "    Args:\n",
    "      content (str): The paragraph content of a doc or article\n",
    "      letter (str): Any letter of 26 letters in alphabet\n",
    "  \n",
    "    Return:\n",
    "      int: The times letter appeaded in whole content\n",
    "  \n",
    "    Raise:\n",
    "      ValueError: Letter should be one character string\n",
    "  \n",
    "    Note:\n",
    "      see https://campus.datacamp.com/courses/writing-functions-in-python/best-practices?ex=2\n",
    "      for more info\n",
    "    '''\n",
    "    \n",
    "    if (not isinstance(letter, str)) or len(letter) != 1:\n",
    "        raise ValueError('`letter` must be a single character string.')\n",
    "    return len([char for char in content if char == letter])\n",
    "\n",
    "\n",
    "\n",
    "\n",
    "a = 'A static method in Java does not translate to a Python classmethod. Oh sure, \\\n",
    "it results in more or less the same effect, but the goal of a classmethod is actually \\\n",
    "to do something that’s usually not even possible in Java (like inheriting a non-default \\\n",
    "constructor). The idiomatic translation of a Java static method is usually a module-level \\\n",
    "function, not a classmethod or staticmethod. (And static final fields should translate to \\\n",
    "module-level constants.)'\n",
    "\n",
    "print(count_letter(a,letter = 'f'))\n",
    "\n",
    "\n",
    "print(count_letter.__doc__)"
   ]
  },
  {
   "cell_type": "markdown",
   "id": "b47410c9-b35b-444d-9f2c-519498ed35f6",
   "metadata": {},
   "source": [
    "## Retrieving docstrings\n",
    "\n",
    "\n",
    "You and a group of friends are working on building an amazing new Python IDE (integrated development environment -- like PyCharm, Spyder, Eclipse, Visual Studio, etc.). The team wants to add a feature that displays a tooltip with a function's docstring whenever the user starts typing the function name. That way, the user doesn't have to go elsewhere to look up the documentation for the function they are trying to use. You've been asked to complete the build_tooltip() function that retrieves a docstring from an arbitrary function.\n",
    "\n",
    "You will be reusing the count_letter() function that you developed in the last exercise to show that we can properly extract its docstring.\n",
    "\n",
    "\n",
    "\n",
    "\n",
    "Begin by getting the docstring for the function count_letter(). Use an attribute of the count_letter() function.\n",
    "\n",
    "Now use a function from the inspect module to get a better-formatted version of count_letter()'s docstring.\n",
    "3\n",
    "\n",
    "Now create a build_tooltip() function that can extract the docstring from any function that we pass to it.\n",
    "\n",
    "Hint\n",
    "\n",
    "    We don't want to call the function (e.g. count_letter()). Instead, treat the function as an object (e.g. count_letter.<attribute_name>).\n",
    "    Try running dir(count_letter) in the shell to see a list of all of the attributes that the function has.\n",
    "\n",
    "\n",
    "\n",
    "\n",
    "\n",
    "Now use a function from the inspect module to get a better-formatted version of count_letter()'s docstring.\n",
    "\n",
    "Hint\n",
    "\n",
    "    Try running dir(inspect) in the shell to see the names of all of the available functions in the inspect module.\n",
    "\n",
    "\n",
    "\n",
    "\n",
    "\n",
    "Now create a build_tooltip() function that can extract the docstring from any function that we pass to it.\n",
    "\n"
   ]
  },
  {
   "cell_type": "code",
   "execution_count": 27,
   "id": "df171b34-936d-4a17-9cf2-bafc76bfd9e5",
   "metadata": {},
   "outputs": [
    {
     "name": "stdout",
     "output_type": "stream",
     "text": [
      "33\n",
      "Return the answer to life, the universe, and everything\n",
      "\n",
      "\n",
      "Returns:\n",
      "  int\n",
      "  \n"
     ]
    }
   ],
   "source": [
    "# Add a docstring to count_letter()\n",
    "def count_letter(content, letter):\n",
    "    '''Count the number of times 'letter' appears in 'content'\n",
    "    \n",
    "    Args:\n",
    "      content (str): The paragraph content of a doc or article\n",
    "      letter (str): Any letter of 26 letters in alphabet\n",
    "  \n",
    "    Return:\n",
    "      int: The times letter appeaded in whole content\n",
    "  \n",
    "    Raise:\n",
    "      ValueError: Letter should be one character string\n",
    "  \n",
    "    Note:\n",
    "      see https://campus.datacamp.com/courses/writing-functions-in-python/best-practices?ex=2\n",
    "      for more info\n",
    "    '''\n",
    "    \n",
    "    if (not isinstance(letter, str)) or len(letter) != 1:\n",
    "        raise ValueError('`letter` must be a single character string.')\n",
    "    return len([char for char in content if char == letter])\n",
    "\n",
    "\n",
    "\n",
    "\n",
    "a = 'A static method in Java does not translate to a Python classmethod. Oh sure, \\\n",
    "it results in more or less the same effect, but the goal of a classmethod is actually \\\n",
    "to do something that’s usually not even possible in Java (like inheriting a non-default \\\n",
    "constructor). The idiomatic translation of a Java static method is usually a module-level \\\n",
    "function, not a classmethod or staticmethod. (And static final fields should translate to \\\n",
    "module-level constants.)'\n",
    "\n",
    "print(count_letter(a,letter = 's'))\n",
    "\n",
    "dir(count_letter)\n",
    "#?count_letter\n",
    "\n",
    "import inspect\n",
    "dir(inspect)\n",
    "print(inspect.getdoc(the_answer))"
   ]
  },
  {
   "cell_type": "code",
   "execution_count": 31,
   "id": "3ad9e239-13d1-4879-98f8-c175203b6766",
   "metadata": {},
   "outputs": [
    {
     "name": "stdout",
     "output_type": "stream",
     "text": [
      "############################ \n",
      "Count the number of times 'letter' appears in 'content'\n",
      "\n",
      "Args:\n",
      "  content (str): The paragraph content of a doc or article\n",
      "  letter (str): Any letter of 26 letters in alphabet\n",
      "\n",
      "Return:\n",
      "  int: The times letter appeaded in whole content\n",
      "\n",
      "Raise:\n",
      "  ValueError: Letter should be one character string\n",
      "\n",
      "Note:\n",
      "  see https://campus.datacamp.com/courses/writing-functions-in-python/best-practices?ex=2\n",
      "  for more info \n",
      "############################\n"
     ]
    }
   ],
   "source": [
    "import inspect\n",
    "\n",
    "def build_tooltip(function):\n",
    "    \"\"\"Create a tooltip for any function that shows the\n",
    "    function's docstring.\n",
    "    \n",
    "    Args:\n",
    "      function (callable): The function we want a tooltip for.\n",
    "\n",
    "    Returns:\n",
    "      str\n",
    "    \"\"\"\n",
    "    \n",
    "    # Get the docstring for the \"function\" argument by using inspect\n",
    "    docstring = inspect.getdoc(function)\n",
    "    border = '#' * 28\n",
    "    return '{} \\n{} \\n{}'.format(border, docstring, border)\n",
    "\n",
    "print(build_tooltip(count_letter))\n",
    "#print(build_tooltip(range))\n",
    "#print(build_tooltip(print))"
   ]
  },
  {
   "cell_type": "markdown",
   "id": "e734d537-76c2-4e62-847b-8543d3b09c63",
   "metadata": {},
   "source": [
    "## Docstrings to the rescue!\n",
    "\n",
    "Some maniac has corrupted your installation of numpy! All of the functions still exist, but they've been given random names. You desperately need to call the numpy.histogram() function and you don't have time to reinstall the package. Fortunately for you, the maniac didn't think to alter the docstrings, and you know how to access them. numpy has a lot of functions in it, so we've narrowed it down to four possible functions that could be numpy.histogram() in disguise: numpy.leyud(), numpy.uqka(), numpy.fywdkxa() or numpy.jinzyxq().\n",
    "\n",
    "Examine each of these functions' docstrings in the IPython shell to determine which of them is actually numpy.histogram().\n",
    "\n",
    "\n",
    "Possible Answers\n",
    "\n",
    "    numpy.leyud()\n",
    "    numpy.uqka()\n",
    "    numpy.fywdkxa()\n",
    "    numpy.jinzyxq()\n",
    "    \n",
    "\n",
    "Hint\n",
    "\n",
    "    To view a function's docstring, you can either use print(function_name.__doc__) or print(inspect.getdoc(function_name)).\n"
   ]
  },
  {
   "cell_type": "code",
   "execution_count": 196,
   "id": "ba335f01-bab4-4ba1-b16f-687ce1bc3f35",
   "metadata": {},
   "outputs": [
    {
     "name": "stdout",
     "output_type": "stream",
     "text": [
      "\n",
      "    Compute the histogram of a set of data.\n",
      "\n",
      "    Parameters\n",
      "    ----------\n",
      "    a : array_like\n",
      "        Input data. The histogram is computed over the flattened array.\n",
      "    bins : int or sequence of scalars or str, optional\n",
      "        If `bins` is an int, it defines the number of equal-width\n",
      "        bins in the given range (10, by default). If `bins` is a\n",
      "        sequence, it defines a monotonically increasing array of bin edges,\n",
      "        including the rightmost edge, allowing for non-uniform bin widths.\n",
      "\n",
      "        .. versionadded:: 1.11.0\n",
      "\n",
      "        If `bins` is a string, it defines the method used to calculate the\n",
      "        optimal bin width, as defined by `histogram_bin_edges`.\n",
      "\n",
      "    range : (float, float), optional\n",
      "        The lower and upper range of the bins.  If not provided, range\n",
      "        is simply ``(a.min(), a.max())``.  Values outside the range are\n",
      "        ignored. The first element of the range must be less than or\n",
      "        equal to the second. `range` affects the automatic bin\n",
      "        computation as well. While bin width is computed to be optimal\n",
      "        based on the actual data within `range`, the bin count will fill\n",
      "        the entire range including portions containing no data.\n",
      "    normed : bool, optional\n",
      "\n",
      "        .. deprecated:: 1.6.0\n",
      "\n",
      "        This is equivalent to the `density` argument, but produces incorrect\n",
      "        results for unequal bin widths. It should not be used.\n",
      "\n",
      "        .. versionchanged:: 1.15.0\n",
      "            DeprecationWarnings are actually emitted.\n",
      "\n",
      "    weights : array_like, optional\n",
      "        An array of weights, of the same shape as `a`.  Each value in\n",
      "        `a` only contributes its associated weight towards the bin count\n",
      "        (instead of 1). If `density` is True, the weights are\n",
      "        normalized, so that the integral of the density over the range\n",
      "        remains 1.\n",
      "    density : bool, optional\n",
      "        If ``False``, the result will contain the number of samples in\n",
      "        each bin. If ``True``, the result is the value of the\n",
      "        probability *density* function at the bin, normalized such that\n",
      "        the *integral* over the range is 1. Note that the sum of the\n",
      "        histogram values will not be equal to 1 unless bins of unity\n",
      "        width are chosen; it is not a probability *mass* function.\n",
      "\n",
      "        Overrides the ``normed`` keyword if given.\n",
      "\n",
      "    Returns\n",
      "    -------\n",
      "    hist : array\n",
      "        The values of the histogram. See `density` and `weights` for a\n",
      "        description of the possible semantics.\n",
      "    bin_edges : array of dtype float\n",
      "        Return the bin edges ``(length(hist)+1)``.\n",
      "\n",
      "\n",
      "    See Also\n",
      "    --------\n",
      "    histogramdd, bincount, searchsorted, digitize, histogram_bin_edges\n",
      "\n",
      "    Notes\n",
      "    -----\n",
      "    All but the last (righthand-most) bin is half-open.  In other words,\n",
      "    if `bins` is::\n",
      "\n",
      "      [1, 2, 3, 4]\n",
      "\n",
      "    then the first bin is ``[1, 2)`` (including 1, but excluding 2) and\n",
      "    the second ``[2, 3)``.  The last bin, however, is ``[3, 4]``, which\n",
      "    *includes* 4.\n",
      "\n",
      "\n",
      "    Examples\n",
      "    --------\n",
      "    >>> np.histogram([1, 2, 1], bins=[0, 1, 2, 3])\n",
      "    (array([0, 2, 1]), array([0, 1, 2, 3]))\n",
      "    >>> np.histogram(np.arange(4), bins=np.arange(5), density=True)\n",
      "    (array([0.25, 0.25, 0.25, 0.25]), array([0, 1, 2, 3, 4]))\n",
      "    >>> np.histogram([[1, 2, 1], [1, 0, 1]], bins=[0,1,2,3])\n",
      "    (array([1, 4, 1]), array([0, 1, 2, 3]))\n",
      "\n",
      "    >>> a = np.arange(5)\n",
      "    >>> hist, bin_edges = np.histogram(a, density=True)\n",
      "    >>> hist\n",
      "    array([0.5, 0. , 0.5, 0. , 0. , 0.5, 0. , 0.5, 0. , 0.5])\n",
      "    >>> hist.sum()\n",
      "    2.4999999999999996\n",
      "    >>> np.sum(hist * np.diff(bin_edges))\n",
      "    1.0\n",
      "\n",
      "    .. versionadded:: 1.11.0\n",
      "\n",
      "    Automated Bin Selection Methods example, using 2 peak random data\n",
      "    with 2000 points:\n",
      "\n",
      "    >>> import matplotlib.pyplot as plt\n",
      "    >>> rng = np.random.RandomState(10)  # deterministic random data\n",
      "    >>> a = np.hstack((rng.normal(size=1000),\n",
      "    ...                rng.normal(loc=5, scale=2, size=1000)))\n",
      "    >>> _ = plt.hist(a, bins='auto')  # arguments are passed to np.histogram\n",
      "    >>> plt.title(\"Histogram with 'auto' bins\")\n",
      "    Text(0.5, 1.0, \"Histogram with 'auto' bins\")\n",
      "    >>> plt.show()\n",
      "\n",
      "    \n"
     ]
    }
   ],
   "source": [
    "import numpy as numpy\n",
    "\n",
    "#numpy.leyud.__doc__\n",
    "\n",
    "#numpy.uqka.__doc__\n",
    "\n",
    "#numpy.fywdkxa.__doc__\n",
    "\n",
    "#print(numpy.jinzyxq.__doc__)\n",
    "\n",
    "#print(numpy.array.__doc__)\n",
    "\n",
    "\n",
    "print(numpy.histogram.__doc__)\n",
    "# ----------------------------------------------------------------------------- #"
   ]
  },
  {
   "cell_type": "code",
   "execution_count": null,
   "id": "f71b01d6-9a4b-4482-a758-3481a23f4fd8",
   "metadata": {},
   "outputs": [],
   "source": [
    "In [2]:\n",
    "print(numpy.leyud.__doc__)\n",
    "\n",
    "    Gives a new shape to an array without changing its data.\n",
    "\n",
    "    Parameters\n",
    "    ----------\n",
    "    a : array_like\n",
    "        Array to be reshaped.\n",
    "    newshape : int or tuple of ints\n",
    "        The new shape should be compatible with the original shape. If\n",
    "        an integer, then the result will be a 1-D array of that length.\n",
    "        One shape dimension can be -1. In this case, the value is\n",
    "        inferred from the length of the array and remaining dimensions.\n",
    "    order : {'C', 'F', 'A'}, optional\n",
    "        Read the elements of `a` using this index order, and place the\n",
    "        elements into the reshaped array using this index order.  'C'\n",
    "        means to read / write the elements using C-like index order,\n",
    "        with the last axis index changing fastest, back to the first\n",
    "        axis index changing slowest. 'F' means to read / write the\n",
    "        elements using Fortran-like index order, with the first index\n",
    "        changing fastest, and the last index changing slowest. Note that\n",
    "        the 'C' and 'F' options take no account of the memory layout of\n",
    "        the underlying array, and only refer to the order of indexing.\n",
    "        'A' means to read / write the elements in Fortran-like index\n",
    "        order if `a` is Fortran *contiguous* in memory, C-like order\n",
    "        otherwise.\n",
    "\n",
    "    Returns\n",
    "    -------\n",
    "    reshaped_array : ndarray\n",
    "        This will be a new view object if possible; otherwise, it will\n",
    "        be a copy.  Note there is no guarantee of the *memory layout* (C- or\n",
    "        Fortran- contiguous) of the returned array.\n",
    "\n",
    "    See Also\n",
    "    --------\n",
    "    ndarray.reshape : Equivalent method.\n",
    "\n",
    "    Notes\n",
    "    -----\n",
    "    It is not always possible to change the shape of an array without\n",
    "    copying the data. If you want an error to be raised when the data is copied,\n",
    "    you should assign the new shape to the shape attribute of the array::\n",
    "\n",
    "     >>> a = np.zeros((10, 2))\n",
    "     # A transpose makes the array non-contiguous\n",
    "     >>> b = a.T\n",
    "     # Taking a view makes it possible to modify the shape without modifying\n",
    "     # the initial object.\n",
    "     >>> c = b.view()\n",
    "     >>> c.shape = (20)\n",
    "     AttributeError: incompatible shape for a non-contiguous array\n",
    "\n",
    "    The `order` keyword gives the index ordering both for *fetching* the values\n",
    "    from `a`, and then *placing* the values into the output array.\n",
    "    For example, let's say you have an array:\n",
    "\n",
    "    >>> a = np.arange(6).reshape((3, 2))\n",
    "    >>> a\n",
    "    array([[0, 1],\n",
    "           [2, 3],\n",
    "           [4, 5]])\n",
    "\n",
    "    You can think of reshaping as first raveling the array (using the given\n",
    "    index order), then inserting the elements from the raveled array into the\n",
    "    new array using the same kind of index ordering as was used for the\n",
    "    raveling.\n",
    "\n",
    "    >>> np.reshape(a, (2, 3)) # C-like index ordering\n",
    "    array([[0, 1, 2],\n",
    "           [3, 4, 5]])\n",
    "    >>> np.reshape(np.ravel(a), (2, 3)) # equivalent to C ravel then C reshape\n",
    "    array([[0, 1, 2],\n",
    "           [3, 4, 5]])\n",
    "    >>> np.reshape(a, (2, 3), order='F') # Fortran-like index ordering\n",
    "    array([[0, 4, 3],\n",
    "           [2, 1, 5]])\n",
    "    >>> np.reshape(np.ravel(a, order='F'), (2, 3), order='F')\n",
    "    array([[0, 4, 3],\n",
    "           [2, 1, 5]])\n",
    "\n",
    "    Examples\n",
    "    --------\n",
    "    >>> a = np.array([[1,2,3], [4,5,6]])\n",
    "    >>> np.reshape(a, 6)\n",
    "    array([1, 2, 3, 4, 5, 6])\n",
    "    >>> np.reshape(a, 6, order='F')\n",
    "    array([1, 4, 2, 5, 3, 6])\n",
    "\n",
    "    >>> np.reshape(a, (3,-1))       # the unspecified value is inferred to be 2\n",
    "    array([[1, 2],\n",
    "           [3, 4],\n",
    "           [5, 6]])\n",
    "    \n",
    "In [3]:\n",
    "print(numpy.uqka.__doc__)\n",
    "\n",
    "    Returns the indices that would sort an array.\n",
    "\n",
    "    Perform an indirect sort along the given axis using the algorithm specified\n",
    "    by the `kind` keyword. It returns an array of indices of the same shape as\n",
    "    `a` that index data along the given axis in sorted order.\n",
    "\n",
    "    Parameters\n",
    "    ----------\n",
    "    a : array_like\n",
    "        Array to sort.\n",
    "    axis : int or None, optional\n",
    "        Axis along which to sort.  The default is -1 (the last axis). If None,\n",
    "        the flattened array is used.\n",
    "    kind : {'quicksort', 'mergesort', 'heapsort', 'stable'}, optional\n",
    "        Sorting algorithm.\n",
    "    order : str or list of str, optional\n",
    "        When `a` is an array with fields defined, this argument specifies\n",
    "        which fields to compare first, second, etc.  A single field can\n",
    "        be specified as a string, and not all fields need be specified,\n",
    "        but unspecified fields will still be used, in the order in which\n",
    "        they come up in the dtype, to break ties.\n",
    "\n",
    "    Returns\n",
    "    -------\n",
    "    index_array : ndarray, int\n",
    "        Array of indices that sort `a` along the specified axis.\n",
    "        If `a` is one-dimensional, ``a[index_array]`` yields a sorted `a`.\n",
    "        More generally, ``np.take_along_axis(a, index_array, axis=a)`` always\n",
    "        yields the sorted `a`, irrespective of dimensionality.\n",
    "\n",
    "    See Also\n",
    "    --------\n",
    "    sort : Describes sorting algorithms used.\n",
    "    lexsort : Indirect stable sort with multiple keys.\n",
    "    ndarray.sort : Inplace sort.\n",
    "    argpartition : Indirect partial sort.\n",
    "\n",
    "    Notes\n",
    "    -----\n",
    "    See `sort` for notes on the different sorting algorithms.\n",
    "\n",
    "    As of NumPy 1.4.0 `argsort` works with real/complex arrays containing\n",
    "    nan values. The enhanced sort order is documented in `sort`.\n",
    "\n",
    "    Examples\n",
    "    --------\n",
    "    One dimensional array:\n",
    "\n",
    "    >>> x = np.array([3, 1, 2])\n",
    "    >>> np.argsort(x)\n",
    "    array([1, 2, 0])\n",
    "\n",
    "    Two-dimensional array:\n",
    "\n",
    "    >>> x = np.array([[0, 3], [2, 2]])\n",
    "    >>> x\n",
    "    array([[0, 3],\n",
    "           [2, 2]])\n",
    "\n",
    "    >>> np.argsort(x, axis=0)  # sorts along first axis (down)\n",
    "    array([[0, 1],\n",
    "           [1, 0]])\n",
    "\n",
    "    >>> np.argsort(x, axis=1)  # sorts along last axis (across)\n",
    "    array([[0, 1],\n",
    "           [0, 1]])\n",
    "\n",
    "    Indices of the sorted elements of a N-dimensional array:\n",
    "\n",
    "    >>> ind = np.unravel_index(np.argsort(x, axis=None), x.shape)\n",
    "    >>> ind\n",
    "    (array([0, 1, 1, 0]), array([0, 0, 1, 1]))\n",
    "    >>> x[ind]  # same as np.sort(x, axis=None)\n",
    "    array([0, 2, 2, 3])\n",
    "\n",
    "    Sorting with keys:\n",
    "\n",
    "    >>> x = np.array([(1, 0), (0, 1)], dtype=[('x', '<i4'), ('y', '<i4')])\n",
    "    >>> x\n",
    "    array([(1, 0), (0, 1)],\n",
    "          dtype=[('x', '<i4'), ('y', '<i4')])\n",
    "\n",
    "    >>> np.argsort(x, order=('x','y'))\n",
    "    array([1, 0])\n",
    "\n",
    "    >>> np.argsort(x, order=('y','x'))\n",
    "    array([0, 1])\n",
    "\n",
    "    \n",
    "In [4]:\n",
    "print(numpy.fywdkxa.__doc__)\n",
    "\n",
    "    Compute the histogram of a set of data.\n",
    "\n",
    "    Parameters\n",
    "    ----------\n",
    "    a : array_like\n",
    "        Input data. The histogram is computed over the flattened array.\n",
    "    bins : int or sequence of scalars or str, optional\n",
    "        If `bins` is an int, it defines the number of equal-width\n",
    "        bins in the given range (10, by default). If `bins` is a\n",
    "        sequence, it defines the bin edges, including the rightmost\n",
    "        edge, allowing for non-uniform bin widths.\n",
    "\n",
    "        .. versionadded:: 1.11.0\n",
    "\n",
    "        If `bins` is a string, it defines the method used to calculate the\n",
    "        optimal bin width, as defined by `histogram_bin_edges`.\n",
    "\n",
    "    range : (float, float), optional\n",
    "        The lower and upper range of the bins.  If not provided, range\n",
    "        is simply ``(a.min(), a.max())``.  Values outside the range are\n",
    "        ignored. The first element of the range must be less than or\n",
    "        equal to the second. `range` affects the automatic bin\n",
    "        computation as well. While bin width is computed to be optimal\n",
    "        based on the actual data within `range`, the bin count will fill\n",
    "        the entire range including portions containing no data.\n",
    "    normed : bool, optional\n",
    "\n",
    "        .. deprecated:: 1.6.0\n",
    "\n",
    "        This is equivalent to the `density` argument, but produces incorrect\n",
    "        results for unequal bin widths. It should not be used.\n",
    "\n",
    "        .. versionchanged:: 1.15.0\n",
    "            DeprecationWarnings are actually emitted.\n",
    "\n",
    "    weights : array_like, optional\n",
    "        An array of weights, of the same shape as `a`.  Each value in\n",
    "        `a` only contributes its associated weight towards the bin count\n",
    "        (instead of 1). If `density` is True, the weights are\n",
    "        normalized, so that the integral of the density over the range\n",
    "        remains 1.\n",
    "    density : bool, optional\n",
    "        If ``False``, the result will contain the number of samples in\n",
    "        each bin. If ``True``, the result is the value of the\n",
    "        probability *density* function at the bin, normalized such that\n",
    "        the *integral* over the range is 1. Note that the sum of the\n",
    "        histogram values will not be equal to 1 unless bins of unity\n",
    "        width are chosen; it is not a probability *mass* function.\n",
    "\n",
    "        Overrides the ``normed`` keyword if given.\n",
    "\n",
    "    Returns\n",
    "    -------\n",
    "    hist : array\n",
    "        The values of the histogram. See `density` and `weights` for a\n",
    "        description of the possible semantics.\n",
    "    bin_edges : array of dtype float\n",
    "        Return the bin edges ``(length(hist)+1)``.\n",
    "\n",
    "\n",
    "    See Also\n",
    "    --------\n",
    "    histogramdd, bincount, searchsorted, digitize, histogram_bin_edges\n",
    "\n",
    "    Notes\n",
    "    -----\n",
    "    All but the last (righthand-most) bin is half-open.  In other words,\n",
    "    if `bins` is::\n",
    "\n",
    "      [1, 2, 3, 4]\n",
    "\n",
    "    then the first bin is ``[1, 2)`` (including 1, but excluding 2) and\n",
    "    the second ``[2, 3)``.  The last bin, however, is ``[3, 4]``, which\n",
    "    *includes* 4.\n",
    "\n",
    "\n",
    "    Examples\n",
    "    --------\n",
    "    >>> np.histogram([1, 2, 1], bins=[0, 1, 2, 3])\n",
    "    (array([0, 2, 1]), array([0, 1, 2, 3]))\n",
    "    >>> np.histogram(np.arange(4), bins=np.arange(5), density=True)\n",
    "    (array([ 0.25,  0.25,  0.25,  0.25]), array([0, 1, 2, 3, 4]))\n",
    "    >>> np.histogram([[1, 2, 1], [1, 0, 1]], bins=[0,1,2,3])\n",
    "    (array([1, 4, 1]), array([0, 1, 2, 3]))\n",
    "\n",
    "    >>> a = np.arange(5)\n",
    "    >>> hist, bin_edges = np.histogram(a, density=True)\n",
    "    >>> hist\n",
    "    array([ 0.5,  0. ,  0.5,  0. ,  0. ,  0.5,  0. ,  0.5,  0. ,  0.5])\n",
    "    >>> hist.sum()\n",
    "    2.4999999999999996\n",
    "    >>> np.sum(hist * np.diff(bin_edges))\n",
    "    1.0\n",
    "\n",
    "    .. versionadded:: 1.11.0\n",
    "\n",
    "    Automated Bin Selection Methods example, using 2 peak random data\n",
    "    with 2000 points:\n",
    "\n",
    "    >>> import matplotlib.pyplot as plt\n",
    "    >>> rng = np.random.RandomState(10)  # deterministic random data\n",
    "    >>> a = np.hstack((rng.normal(size=1000),\n",
    "    ...                rng.normal(loc=5, scale=2, size=1000)))\n",
    "    >>> plt.hist(a, bins='auto')  # arguments are passed to np.histogram\n",
    "    >>> plt.title(\"Histogram with 'auto' bins\")\n",
    "    >>> plt.show()\n",
    "\n",
    "    \n",
    "In [5]:\n",
    "print(numpy.jinzyxq.__doc__)\n",
    "\n",
    "    Return an array of zeros with the same shape and type as a given array.\n",
    "\n",
    "    Parameters\n",
    "    ----------\n",
    "    a : array_like\n",
    "        The shape and data-type of `a` define these same attributes of\n",
    "        the returned array.\n",
    "    dtype : data-type, optional\n",
    "        Overrides the data type of the result.\n",
    "\n",
    "        .. versionadded:: 1.6.0\n",
    "    order : {'C', 'F', 'A', or 'K'}, optional\n",
    "        Overrides the memory layout of the result. 'C' means C-order,\n",
    "        'F' means F-order, 'A' means 'F' if `a` is Fortran contiguous,\n",
    "        'C' otherwise. 'K' means match the layout of `a` as closely\n",
    "        as possible.\n",
    "\n",
    "        .. versionadded:: 1.6.0\n",
    "    subok : bool, optional.\n",
    "        If True, then the newly created array will use the sub-class\n",
    "        type of 'a', otherwise it will be a base-class array. Defaults\n",
    "        to True.\n",
    "\n",
    "    Returns\n",
    "    -------\n",
    "    out : ndarray\n",
    "        Array of zeros with the same shape and type as `a`.\n",
    "\n",
    "    See Also\n",
    "    --------\n",
    "    empty_like : Return an empty array with shape and type of input.\n",
    "    ones_like : Return an array of ones with shape and type of input.\n",
    "    full_like : Return a new array with shape of input filled with value.\n",
    "    zeros : Return a new array setting values to zero.\n",
    "\n",
    "    Examples\n",
    "    --------\n",
    "    >>> x = np.arange(6)\n",
    "    >>> x = x.reshape((2, 3))\n",
    "    >>> x\n",
    "    array([[0, 1, 2],\n",
    "           [3, 4, 5]])\n",
    "    >>> np.zeros_like(x)\n",
    "    array([[0, 0, 0],\n",
    "           [0, 0, 0]])\n",
    "\n",
    "    >>> y = np.arange(3, dtype=float)\n",
    "    >>> y\n",
    "    array([ 0.,  1.,  2.])\n",
    "    >>> np.zeros_like(y)\n",
    "    array([ 0.,  0.,  0.])\n",
    "\n",
    "    "
   ]
  },
  {
   "cell_type": "markdown",
   "id": "e25e4b43-0280-4b73-b98d-cf313dafc1c9",
   "metadata": {},
   "source": [
    "## DRY and \"Do One Thing\"\n",
    "\n",
    "\n",
    "\n",
    "copy and paste code cause problems, mistakes"
   ]
  },
  {
   "cell_type": "code",
   "execution_count": null,
   "id": "1ed6d112-2fff-435f-9ebc-e7cc38f05da7",
   "metadata": {},
   "outputs": [],
   "source": [
    "train = pd.read_csv('abc.csv')\n",
    "train_y = train['labels'].values\n",
    "train_x = train[col for col in train.columns id col != 'labels'].values\n",
    "train_pca = PCA(n_components=2).fit_transform(train_x)\n",
    "plt.scatter(train_pca[:,0], train_pca[:,1])\n",
    "\n",
    "\n",
    "val = pd.read_csv('abc.csv')\n",
    "val_y = val['labels'].values\n",
    "val_x = val[col for col in val.columns id col != 'labels'].values\n",
    "val_pca = PCA(n_components=2).fit_transform(val_x)\n",
    "plt.scatter(val_pca[:,0], val_pca[:,1])\n",
    "\n",
    "\n",
    "test = pd.read_csv('abc.csv')\n",
    "test_y = test['labels'].testues\n",
    "test_x = test[col for col in test.columns id col != 'labels'].testues\n",
    "test_pca = PCA(n_components=2).fit_transform(test_x)\n",
    "plt.scatter(test_pca[:,0], test_pca[:,1])\n",
    "\n",
    "\n",
    "\n",
    "# repeated code like this is a good sign that you should write a function, lets do this"
   ]
  },
  {
   "cell_type": "code",
   "execution_count": null,
   "id": "a2e91e52-f988-47ed-bffc-c9bbf3626296",
   "metadata": {},
   "outputs": [],
   "source": [
    "def load_and_plot(path):\n",
    "    '''Load a data set and plot the first two principal components\n",
    "    \n",
    "    Args:\n",
    "      path (str): The location of csv file\n",
    "      \n",
    "    Returns:\n",
    "      Tuple of numpy ndarray: (features, labels)\n",
    "    \n",
    "    '''\n",
    "    \n",
    "    data = pd.read_csv(path)\n",
    "    Y = data['label'].values\n",
    "    X = data[col for col in data.columns in col != 'label'].values\n",
    "    pca = PCA(n_components=2).fit_transform(X)\n",
    "    plt.scatter(pca[:,0], pca[:,1])\n",
    "    \n",
    "    return X, Y\n",
    "\n",
    "\n",
    "\n",
    "train_X, train_y = load_and_plot('train.csv')\n",
    "val_X, val_y = load_and_plot('val.csv')\n",
    "test_X, test_y = load_and_plot('test.csv')\n",
    "\n",
    "\n",
    "## Wrapping the repeated logic in a function and then calling that function several times."
   ]
  },
  {
   "cell_type": "markdown",
   "id": "3b4b434a-bf2a-4cf1-80d5-d832ecc70c95",
   "metadata": {},
   "source": [
    "## Every function should have one responsibility, Do One Thing principle\n",
    "\n",
    "\n",
    "\n",
    "\n",
    "************************** THINK"
   ]
  },
  {
   "cell_type": "code",
   "execution_count": 45,
   "id": "15a8410e-36fe-4fa0-acbe-f8f64cd32d53",
   "metadata": {},
   "outputs": [
    {
     "data": {
      "text/plain": [
       "(array([[1, 'Cliff', 'DataScientist', 800000],\n",
       "        [2, 'Frank', 'DataEngineer', 900008],\n",
       "        [3, 'Steve', 'PythonDeveloper', 900001],\n",
       "        [4, 'Coco', 'DataEngineer', 900002],\n",
       "        [5, 'John', 'DataScientist', 900003]], dtype=object),\n",
       " array([1, 0, 0, 3, 1]))"
      ]
     },
     "execution_count": 45,
     "metadata": {},
     "output_type": "execute_result"
    }
   ],
   "source": [
    "import pandas as pd\n",
    "\n",
    "def load_data(path):\n",
    "    '''Load a data set\n",
    "    \n",
    "    Args:\n",
    "      path (str): The locatio of csv file\n",
    "      \n",
    "    Returns:\n",
    "      Tuple of ndarray: (features, labels)\n",
    "      \n",
    "    '''\n",
    "    \n",
    "    df = pd.read_csv(path)\n",
    "    y = df['labels'].values\n",
    "    X = df[[i for i in list(df.columns) if i != 'labels']].values\n",
    "    #X = df[[i for i in df.columns if i != 'labels']].values\n",
    "    #df[[i for i in list(df.columns) if i not in [list_of_columns_to_exclude]]]\n",
    "    #df = pd.DataFrame([[i] for i in range(10)], columns=['num'])\n",
    "\n",
    "    \n",
    "    return X,  y\n",
    "\n",
    "\n",
    "load_data('train.csv')"
   ]
  },
  {
   "cell_type": "code",
   "execution_count": 64,
   "id": "a5dbb2da-3b0b-4d18-9014-08c7ec2ad1ac",
   "metadata": {},
   "outputs": [
    {
     "data": {
      "text/plain": [
       "(   id   name              job  salary\n",
       " 0   1  Cliff    DataScientist  800000\n",
       " 1   2  Frank     DataEngineer  900008\n",
       " 2   3  Steve  PythonDeveloper  900001\n",
       " 3   4   Coco     DataEngineer  900002\n",
       " 4   5   John    DataScientist  900003,\n",
       "    id  name            job  salary  labels\n",
       " 4   5  John  DataScientist  900003       1)"
      ]
     },
     "execution_count": 64,
     "metadata": {},
     "output_type": "execute_result"
    }
   ],
   "source": [
    "import pandas as pd\n",
    "\n",
    "def load_data(path):\n",
    "    \n",
    "    df = pd.read_csv(path)\n",
    "    #y = df['labels'].values\n",
    "    y = df.loc[df.columns == 'labels']\n",
    "        # <= pandas.DataFrame.loc, Single label. Note this returns the row as a Series\n",
    "\n",
    "    X = df.loc[:, df.columns != 'labels']\n",
    "        # <= pandas.DataFrame.loc, List of labels. Note using [[]] returns a DataFrame.\n",
    "\n",
    "        \n",
    "    #X = pd.DataFrame([i] for i in df.columns, if i != 'labels')\n",
    "    #df = pd.DataFrame([[i] for i in range(10)], columns=['num'])\n",
    "    #df.loc[:, df.columns != 'b']\n",
    "\n",
    "    \n",
    "    return X,  y\n",
    "\n",
    "\n",
    "load_data('train.csv')"
   ]
  },
  {
   "cell_type": "code",
   "execution_count": 68,
   "id": "0d1d3a3e-76f2-416b-987c-f974e41fbdc3",
   "metadata": {},
   "outputs": [
    {
     "data": {
      "text/plain": [
       "(   id   name              job  salary\n",
       " 0   1  Cliff    DataScientist  800000\n",
       " 1   2  Frank     DataEngineer  900008\n",
       " 2   3  Steve  PythonDeveloper  900001\n",
       " 3   4   Coco     DataEngineer  900002\n",
       " 4   5   John    DataScientist  900003,\n",
       " 0    1\n",
       " 1    0\n",
       " 2    0\n",
       " 3    3\n",
       " 4    1\n",
       " Name: labels, dtype: int64)"
      ]
     },
     "execution_count": 68,
     "metadata": {},
     "output_type": "execute_result"
    }
   ],
   "source": [
    "import pandas as pd\n",
    "\n",
    "def load_data(path):\n",
    "    \n",
    "    df = pd.read_csv(path)\n",
    "    \n",
    "    y = df['labels']    \n",
    "    # <= pandas.DataFrame.loc, Single label. Note this returns the row as a Series\n",
    "    \n",
    "    # In Pandas, we can select a single column with just using the index operator [],\n",
    "    #   but without list as argument. However, the resulting object is a Pandas series \n",
    "    #   instead of Pandas Dataframe. For example, if we use df[‘A’], we would have \n",
    "    #   selected the single column as Pandas Series object\n",
    "    \n",
    "    X = df[['id', 'name', 'job', 'salary']]\n",
    "    # <= pandas.DataFrame.loc, List of labels. Note using [[]] returns a DataFrame.\n",
    "    \n",
    "    return X,  y\n",
    "\n",
    "\n",
    "load_data('train.csv')"
   ]
  },
  {
   "cell_type": "code",
   "execution_count": 67,
   "id": "ec4bb7f1-ef2e-4ce3-9be5-8b18647c527b",
   "metadata": {},
   "outputs": [
    {
     "data": {
      "text/html": [
       "<div>\n",
       "<style scoped>\n",
       "    .dataframe tbody tr th:only-of-type {\n",
       "        vertical-align: middle;\n",
       "    }\n",
       "\n",
       "    .dataframe tbody tr th {\n",
       "        vertical-align: top;\n",
       "    }\n",
       "\n",
       "    .dataframe thead th {\n",
       "        text-align: right;\n",
       "    }\n",
       "</style>\n",
       "<table border=\"1\" class=\"dataframe\">\n",
       "  <thead>\n",
       "    <tr style=\"text-align: right;\">\n",
       "      <th></th>\n",
       "      <th>id</th>\n",
       "      <th>name</th>\n",
       "      <th>job</th>\n",
       "      <th>salary</th>\n",
       "    </tr>\n",
       "  </thead>\n",
       "  <tbody>\n",
       "    <tr>\n",
       "      <th>0</th>\n",
       "      <td>1</td>\n",
       "      <td>Cliff</td>\n",
       "      <td>DataScientist</td>\n",
       "      <td>800000</td>\n",
       "    </tr>\n",
       "    <tr>\n",
       "      <th>1</th>\n",
       "      <td>2</td>\n",
       "      <td>Frank</td>\n",
       "      <td>DataEngineer</td>\n",
       "      <td>900008</td>\n",
       "    </tr>\n",
       "    <tr>\n",
       "      <th>2</th>\n",
       "      <td>3</td>\n",
       "      <td>Steve</td>\n",
       "      <td>PythonDeveloper</td>\n",
       "      <td>900001</td>\n",
       "    </tr>\n",
       "    <tr>\n",
       "      <th>3</th>\n",
       "      <td>4</td>\n",
       "      <td>Coco</td>\n",
       "      <td>DataEngineer</td>\n",
       "      <td>900002</td>\n",
       "    </tr>\n",
       "    <tr>\n",
       "      <th>4</th>\n",
       "      <td>5</td>\n",
       "      <td>John</td>\n",
       "      <td>DataScientist</td>\n",
       "      <td>900003</td>\n",
       "    </tr>\n",
       "  </tbody>\n",
       "</table>\n",
       "</div>"
      ],
      "text/plain": [
       "   id   name              job  salary\n",
       "0   1  Cliff    DataScientist  800000\n",
       "1   2  Frank     DataEngineer  900008\n",
       "2   3  Steve  PythonDeveloper  900001\n",
       "3   4   Coco     DataEngineer  900002\n",
       "4   5   John    DataScientist  900003"
      ]
     },
     "execution_count": 67,
     "metadata": {},
     "output_type": "execute_result"
    }
   ],
   "source": [
    "import pandas as pd\n",
    "\n",
    "def load_data(path):\n",
    "    \n",
    "    df = pd.read_csv(path)\n",
    "    #y = df['labels'].values\n",
    "    X = df[['id', 'name', 'job', 'salary']]\n",
    "    # <= pandas.DataFrame.loc, List of labels. Note using [[]] returns a DataFrame.\n",
    "    \n",
    "    return X\n",
    "\n",
    "\n",
    "load_data('train.csv')"
   ]
  },
  {
   "cell_type": "code",
   "execution_count": 69,
   "id": "a29b0402-b900-4575-bf4d-445104f9e92e",
   "metadata": {},
   "outputs": [
    {
     "data": {
      "text/html": [
       "<div>\n",
       "<style scoped>\n",
       "    .dataframe tbody tr th:only-of-type {\n",
       "        vertical-align: middle;\n",
       "    }\n",
       "\n",
       "    .dataframe tbody tr th {\n",
       "        vertical-align: top;\n",
       "    }\n",
       "\n",
       "    .dataframe thead th {\n",
       "        text-align: right;\n",
       "    }\n",
       "</style>\n",
       "<table border=\"1\" class=\"dataframe\">\n",
       "  <thead>\n",
       "    <tr style=\"text-align: right;\">\n",
       "      <th></th>\n",
       "      <th>labels</th>\n",
       "    </tr>\n",
       "  </thead>\n",
       "  <tbody>\n",
       "    <tr>\n",
       "      <th>0</th>\n",
       "      <td>1</td>\n",
       "    </tr>\n",
       "    <tr>\n",
       "      <th>1</th>\n",
       "      <td>0</td>\n",
       "    </tr>\n",
       "    <tr>\n",
       "      <th>2</th>\n",
       "      <td>0</td>\n",
       "    </tr>\n",
       "    <tr>\n",
       "      <th>3</th>\n",
       "      <td>3</td>\n",
       "    </tr>\n",
       "    <tr>\n",
       "      <th>4</th>\n",
       "      <td>1</td>\n",
       "    </tr>\n",
       "  </tbody>\n",
       "</table>\n",
       "</div>"
      ],
      "text/plain": [
       "   labels\n",
       "0       1\n",
       "1       0\n",
       "2       0\n",
       "3       3\n",
       "4       1"
      ]
     },
     "execution_count": 69,
     "metadata": {},
     "output_type": "execute_result"
    }
   ],
   "source": [
    "import pandas as pd\n",
    "\n",
    "def load_data(path):\n",
    "    \n",
    "    df = pd.read_csv(path)\n",
    "    y = df[['labels']]\n",
    "    #X = df[['id', 'name', 'job', 'salary']]\n",
    "    # <= pandas.DataFrame.loc, List of labels. Note using [[]] returns a DataFrame.\n",
    "    \n",
    "    return y\n",
    "\n",
    "\n",
    "load_data('train.csv')"
   ]
  },
  {
   "cell_type": "code",
   "execution_count": 47,
   "id": "7057b03f-c96e-4aa4-9230-c70655642a0b",
   "metadata": {},
   "outputs": [
    {
     "data": {
      "text/html": [
       "<div>\n",
       "<style scoped>\n",
       "    .dataframe tbody tr th:only-of-type {\n",
       "        vertical-align: middle;\n",
       "    }\n",
       "\n",
       "    .dataframe tbody tr th {\n",
       "        vertical-align: top;\n",
       "    }\n",
       "\n",
       "    .dataframe thead th {\n",
       "        text-align: right;\n",
       "    }\n",
       "</style>\n",
       "<table border=\"1\" class=\"dataframe\">\n",
       "  <thead>\n",
       "    <tr style=\"text-align: right;\">\n",
       "      <th></th>\n",
       "      <th>id</th>\n",
       "      <th>name</th>\n",
       "      <th>job</th>\n",
       "      <th>salary</th>\n",
       "      <th>labels</th>\n",
       "    </tr>\n",
       "  </thead>\n",
       "  <tbody>\n",
       "    <tr>\n",
       "      <th>0</th>\n",
       "      <td>1</td>\n",
       "      <td>Cliff</td>\n",
       "      <td>DataScientist</td>\n",
       "      <td>800000</td>\n",
       "      <td>1</td>\n",
       "    </tr>\n",
       "    <tr>\n",
       "      <th>1</th>\n",
       "      <td>2</td>\n",
       "      <td>Frank</td>\n",
       "      <td>DataEngineer</td>\n",
       "      <td>900008</td>\n",
       "      <td>0</td>\n",
       "    </tr>\n",
       "    <tr>\n",
       "      <th>2</th>\n",
       "      <td>3</td>\n",
       "      <td>Steve</td>\n",
       "      <td>PythonDeveloper</td>\n",
       "      <td>900001</td>\n",
       "      <td>0</td>\n",
       "    </tr>\n",
       "    <tr>\n",
       "      <th>3</th>\n",
       "      <td>4</td>\n",
       "      <td>Coco</td>\n",
       "      <td>DataEngineer</td>\n",
       "      <td>900002</td>\n",
       "      <td>3</td>\n",
       "    </tr>\n",
       "    <tr>\n",
       "      <th>4</th>\n",
       "      <td>5</td>\n",
       "      <td>John</td>\n",
       "      <td>DataScientist</td>\n",
       "      <td>900003</td>\n",
       "      <td>1</td>\n",
       "    </tr>\n",
       "  </tbody>\n",
       "</table>\n",
       "</div>"
      ],
      "text/plain": [
       "   id   name              job  salary  labels\n",
       "0   1  Cliff    DataScientist  800000       1\n",
       "1   2  Frank     DataEngineer  900008       0\n",
       "2   3  Steve  PythonDeveloper  900001       0\n",
       "3   4   Coco     DataEngineer  900002       3\n",
       "4   5   John    DataScientist  900003       1"
      ]
     },
     "execution_count": 47,
     "metadata": {},
     "output_type": "execute_result"
    }
   ],
   "source": [
    "import pandas as pd\n",
    "\n",
    "df = pd.read_csv('train.csv')\n",
    "df"
   ]
  },
  {
   "cell_type": "code",
   "execution_count": 62,
   "id": "ceefd729-46e0-43af-a9a6-48758bad0cc3",
   "metadata": {},
   "outputs": [
    {
     "data": {
      "text/plain": [
       "0    1\n",
       "1    0\n",
       "2    0\n",
       "3    3\n",
       "4    1\n",
       "Name: labels, dtype: int64"
      ]
     },
     "execution_count": 62,
     "metadata": {},
     "output_type": "execute_result"
    }
   ],
   "source": [
    "import pandas as pd\n",
    "\n",
    "df = pd.read_csv('train.csv')\n",
    "df['labels']    # <= returns a panda series\n",
    "                # <=     A Pandas Series is like a column in a table.\n",
    "                # <=     It is a one-dimensional array holding data of any type.\n",
    "\n",
    "\n",
    "# ---------------------------------------------------------------------------------------- #\n",
    "# go read this: \n",
    "# https://cmdlinetips.com/2020/04/3-ways-to-select-one-or-more-columns-with-pandas/"
   ]
  },
  {
   "cell_type": "code",
   "execution_count": 51,
   "id": "7fe598be-424a-43c8-b838-11448b1e1796",
   "metadata": {},
   "outputs": [
    {
     "data": {
      "text/html": [
       "<div>\n",
       "<style scoped>\n",
       "    .dataframe tbody tr th:only-of-type {\n",
       "        vertical-align: middle;\n",
       "    }\n",
       "\n",
       "    .dataframe tbody tr th {\n",
       "        vertical-align: top;\n",
       "    }\n",
       "\n",
       "    .dataframe thead th {\n",
       "        text-align: right;\n",
       "    }\n",
       "</style>\n",
       "<table border=\"1\" class=\"dataframe\">\n",
       "  <thead>\n",
       "    <tr style=\"text-align: right;\">\n",
       "      <th></th>\n",
       "      <th>labels</th>\n",
       "    </tr>\n",
       "  </thead>\n",
       "  <tbody>\n",
       "    <tr>\n",
       "      <th>0</th>\n",
       "      <td>1</td>\n",
       "    </tr>\n",
       "    <tr>\n",
       "      <th>1</th>\n",
       "      <td>0</td>\n",
       "    </tr>\n",
       "    <tr>\n",
       "      <th>2</th>\n",
       "      <td>0</td>\n",
       "    </tr>\n",
       "    <tr>\n",
       "      <th>3</th>\n",
       "      <td>3</td>\n",
       "    </tr>\n",
       "    <tr>\n",
       "      <th>4</th>\n",
       "      <td>1</td>\n",
       "    </tr>\n",
       "  </tbody>\n",
       "</table>\n",
       "</div>"
      ],
      "text/plain": [
       "   labels\n",
       "0       1\n",
       "1       0\n",
       "2       0\n",
       "3       3\n",
       "4       1"
      ]
     },
     "execution_count": 51,
     "metadata": {},
     "output_type": "execute_result"
    }
   ],
   "source": [
    "import pandas as pd\n",
    "\n",
    "df = pd.read_csv('train.csv')\n",
    "df[['labels']]"
   ]
  },
  {
   "cell_type": "code",
   "execution_count": 32,
   "id": "82afd450-5a35-4a04-90cd-85366eefa117",
   "metadata": {},
   "outputs": [
    {
     "data": {
      "text/plain": [
       "array([1, 0, 0, 3, 1])"
      ]
     },
     "execution_count": 32,
     "metadata": {},
     "output_type": "execute_result"
    }
   ],
   "source": [
    "import pandas as pd\n",
    "\n",
    "df = pd.read_csv('train.csv')\n",
    "df['labels'].values"
   ]
  },
  {
   "cell_type": "code",
   "execution_count": 50,
   "id": "2264548e-2fe7-4354-b39d-8f9204da35c7",
   "metadata": {},
   "outputs": [
    {
     "data": {
      "text/plain": [
       "array([[1],\n",
       "       [0],\n",
       "       [0],\n",
       "       [3],\n",
       "       [1]])"
      ]
     },
     "execution_count": 50,
     "metadata": {},
     "output_type": "execute_result"
    }
   ],
   "source": [
    "import pandas as pd\n",
    "\n",
    "df = pd.read_csv('train.csv')\n",
    "df[['labels']].values"
   ]
  },
  {
   "cell_type": "code",
   "execution_count": 34,
   "id": "979747e4-81e1-4f67-8785-c5a5cc483307",
   "metadata": {},
   "outputs": [
    {
     "name": "stdout",
     "output_type": "stream",
     "text": [
      "<generator object <genexpr> at 0x7f9eedb9b7b0>\n",
      "[1, 9]\n"
     ]
    }
   ],
   "source": [
    "#print(i*i for i in range(10) if i%2==0)\n",
    "\n",
    "#print(sum(i*i for i in range(4) if i%2 != 0),sum(i*i for i in range(7) if i%2 == 1))\n",
    "\n",
    "print(i*i for i in range(4) if i%2 != 0)\n",
    "\n",
    "print(list(i*i for i in range(4) if i%2 != 0))"
   ]
  },
  {
   "cell_type": "code",
   "execution_count": null,
   "id": "16f64c78-de01-4466-81e7-8581b7103666",
   "metadata": {},
   "outputs": [],
   "source": [
    "def plot_data(X):\n",
    "    '''Plot the first two principal components of a matrix\n",
    "    \n",
    "    Args:\n",
    "      X (numpy.ndarray): The data to plot\n",
    "    \n",
    "    '''\n",
    "    \n",
    "    pca = PCA(n_components=2).fit_transform(X)\n",
    "    plot.scaller(pca[:,0], pca[:,1])\n",
    "    \n",
    "    "
   ]
  },
  {
   "cell_type": "code",
   "execution_count": 85,
   "id": "bfa2bd20-5c66-4ab2-ab74-0f8b54109b71",
   "metadata": {},
   "outputs": [
    {
     "name": "stdout",
     "output_type": "stream",
     "text": [
      "Index(['id', ' name', ' job', ' salary', ' labels'], dtype='object')\n"
     ]
    },
    {
     "data": {
      "text/plain": [
       "['id', ' name', ' job', ' salary', ' labels']"
      ]
     },
     "execution_count": 85,
     "metadata": {},
     "output_type": "execute_result"
    }
   ],
   "source": [
    "import pandas as pd\n",
    "\n",
    "data = pd.read_csv('train.csv')\n",
    "print(data.columns)\n",
    "list(data.columns)\n",
    "#X = data[col for col in data.columns if col != 'labels'].values\n",
    "#X"
   ]
  },
  {
   "cell_type": "code",
   "execution_count": 97,
   "id": "fdf1c676-a080-4364-9374-7bad35c2f58d",
   "metadata": {},
   "outputs": [
    {
     "ename": "SyntaxError",
     "evalue": "invalid syntax (4257226009.py, line 6)",
     "output_type": "error",
     "traceback": [
      "\u001b[0;36m  File \u001b[0;32m\"/tmp/ipykernel_21439/4257226009.py\"\u001b[0;36m, line \u001b[0;32m6\u001b[0m\n\u001b[0;31m    X = data[col for col in list(data.columns) if col != 'labels'].values\u001b[0m\n\u001b[0m                 ^\u001b[0m\n\u001b[0;31mSyntaxError\u001b[0m\u001b[0;31m:\u001b[0m invalid syntax\n"
     ]
    }
   ],
   "source": [
    "import pandas as pd\n",
    "\n",
    "data = pd.read_csv('train.csv')\n",
    "data.columns\n",
    "print(col for col in data.columns)\n",
    "X = data[col for col in list(data.columns) if col != 'labels'].values\n",
    "X"
   ]
  },
  {
   "cell_type": "code",
   "execution_count": 92,
   "id": "7d7a22e2-a8c5-4e24-bec2-dc2bac9de4b7",
   "metadata": {},
   "outputs": [
    {
     "name": "stdout",
     "output_type": "stream",
     "text": [
      "id\n",
      " name\n",
      " job\n",
      " salary\n",
      " labels\n"
     ]
    }
   ],
   "source": [
    "for col in list(data.columns): print(col)"
   ]
  },
  {
   "cell_type": "code",
   "execution_count": 93,
   "id": "6d7a3412-446c-4f27-831e-cf7f95ce11dc",
   "metadata": {},
   "outputs": [
    {
     "name": "stdout",
     "output_type": "stream",
     "text": [
      "<generator object <genexpr> at 0x7fb14169d740>\n"
     ]
    }
   ],
   "source": [
    "print([col] for col in list(data.columns))"
   ]
  },
  {
   "cell_type": "code",
   "execution_count": null,
   "id": "4ca514a9-d0f4-4fcb-afcb-4e11330fb8a1",
   "metadata": {},
   "outputs": [],
   "source": []
  },
  {
   "cell_type": "code",
   "execution_count": null,
   "id": "71974f8b-b098-420b-a15a-29ad5e8287c8",
   "metadata": {},
   "outputs": [],
   "source": []
  },
  {
   "cell_type": "markdown",
   "id": "af8ad4c0-4891-4d61-a02b-402a74efd26a",
   "metadata": {},
   "source": [
    "## Exercise\n",
    "Exercise\n",
    "Extract a function\n",
    "\n",
    "While you were developing a model to predict the likelihood of a student graduating from college, you wrote this bit of code to get the z-scores of students' yearly GPAs. Now you're ready to turn it into a production-quality system, so you need to do something about the repetition. Writing a function to calculate the z-scores would improve this code.\n",
    "\n",
    "# Standardize the GPAs for each year\n",
    "df['y1_z'] = (df.y1_gpa - df.y1_gpa.mean()) / df.y1_gpa.std()\n",
    "df['y2_z'] = (df.y2_gpa - df.y2_gpa.mean()) / df.y2_gpa.std()\n",
    "df['y3_z'] = (df.y3_gpa - df.y3_gpa.mean()) / df.y3_gpa.std()\n",
    "df['y4_z'] = (df.y4_gpa - df.y4_gpa.mean()) / df.y4_gpa.std()\n",
    "\n",
    "Note: df is a pandas DataFrame where each row is a student with 4 columns of yearly student GPAs: y1_gpa, y2_gpa, y3_gpa, y4_gpa\n",
    "\n",
    "\n",
    "\n",
    "\n",
    "    Finish the function so that it returns the z-scores of a column.\n",
    "    Use the function to calculate the z-scores for each year (df['y1_z'], df['y2_z'], etc.) from the raw GPA scores (df.y1_gpa, df.y2_gpa, etc.).\n",
    "\n",
    "Hint\n",
    "\n",
    "    Notice how (df.y1_gpa - df.y1_gpa.mean()) / df.y1_gpa.std() is only performing operations on df.y1_gpa. So you should be able to pass df.y1_gpa as the column argument to the standardize() function.\n"
   ]
  },
  {
   "cell_type": "code",
   "execution_count": null,
   "id": "8bc2e728-da6f-4fd5-a997-3f77fb093c7c",
   "metadata": {},
   "outputs": [],
   "source": [
    "def standardize(column):\n",
    "    \"\"\"Standardize the values in a column.\n",
    "\n",
    "    Args:\n",
    "      column (pandas Series): The data to standardize.\n",
    "\n",
    "    Returns:\n",
    "      pandas Series: the values as z-scores\n",
    "    \"\"\"\n",
    "    # Finish the function so that it returns the z-scores\n",
    "    z_score = (column - column.mean()) / column.std()\n",
    "    return z_score\n",
    "\n",
    "# Use the standardize() function to calculate the z-scores\n",
    "df['y1_z'] = standardize(df.y1_gpa)\n",
    "df['y2_z'] = standardize(df.y2_gpa)\n",
    "df['y3_z'] = standardize(df.y3_gpa)\n",
    "df['y4_z'] = standardize(df.y4_gpa)"
   ]
  },
  {
   "cell_type": "markdown",
   "id": "1cd362c6-5bf4-4180-b3cf-53ab7d30209c",
   "metadata": {},
   "source": [
    "## Split up a function\n",
    "\n",
    "Another engineer on your team has written this function to calculate the mean and median of a sorted list. You want to show them how to split it into two simpler functions: mean() and median()\n",
    "\n",
    "def mean_and_median(values):\n",
    "  \"\"\"Get the mean and median of a sorted list of `values`\n",
    "\n",
    "  Args:\n",
    "    values (iterable of float): A list of numbers\n",
    "\n",
    "  Returns:\n",
    "    tuple (float, float): The mean and median\n",
    "  \"\"\"\n",
    "  mean = sum(values) / len(values)\n",
    "  midpoint = int(len(values) / 2)\n",
    "  if len(values) % 2 == 0:\n",
    "    median = (values[midpoint - 1] + values[midpoint]) / 2\n",
    "  else:\n",
    "    median = values[midpoint]\n",
    "\n",
    "  return mean, median\n",
    "\n",
    "\n",
    "\n",
    "Write the mean() function."
   ]
  },
  {
   "cell_type": "code",
   "execution_count": 48,
   "id": "7acac18a-93db-4fec-a754-f01edf93b354",
   "metadata": {},
   "outputs": [
    {
     "data": {
      "text/plain": [
       "(6.555555555555555, 2)"
      ]
     },
     "execution_count": 48,
     "metadata": {},
     "output_type": "execute_result"
    }
   ],
   "source": [
    "def mean_and_median(values):\n",
    "    \"\"\"Get the mean and median of a sorted list of `values`\n",
    "\n",
    "    Args:\n",
    "      values (iterable of float): A list of numbers\n",
    "\n",
    "    Returns:\n",
    "      tuple (float, float): The mean and median\n",
    "    \"\"\"\n",
    "    mean = sum(values) / len(values)\n",
    "    midpoint = int(len(values) / 2)\n",
    "    if len(values) % 2 == 0:\n",
    "        median = (values[midpoint - 1] + values[midpoint]) / 2\n",
    "    else:\n",
    "        median = values[midpoint]\n",
    "\n",
    "    return mean, median    # <= Why returned value data structure is tuple\n",
    "\n",
    "\n",
    "\n",
    "values = [1,3,4,7,2,8,9,12,13]\n",
    "mean_and_median(values)"
   ]
  },
  {
   "cell_type": "code",
   "execution_count": 49,
   "id": "a3d5551b-c3d9-452d-aa0d-f94c22d013de",
   "metadata": {},
   "outputs": [
    {
     "name": "stdout",
     "output_type": "stream",
     "text": [
      "(62.8318, 314.159)\n"
     ]
    }
   ],
   "source": [
    "def circleInfo(r):\n",
    "    \"\"\" Return (circumference, area) of a circle of radius r \"\"\"\n",
    "    c = 2 * 3.14159 * r\n",
    "    a = 3.14159 * r * r\n",
    "    return (c, a)\n",
    "\n",
    "print(circleInfo(10))"
   ]
  },
  {
   "cell_type": "code",
   "execution_count": 51,
   "id": "d271024e-ea2a-461b-bcb5-0fc04e35c1e2",
   "metadata": {},
   "outputs": [
    {
     "name": "stdout",
     "output_type": "stream",
     "text": [
      "(62.8318, 314.159)\n"
     ]
    }
   ],
   "source": [
    "def circleInfo(r):\n",
    "    \"\"\" Return (circumference, area) of a circle of radius r \"\"\"\n",
    "    c = 2 * 3.14159 * r\n",
    "    a = 3.14159 * r * r\n",
    "    return c, a\n",
    "\n",
    "print(circleInfo(10))"
   ]
  },
  {
   "cell_type": "code",
   "execution_count": null,
   "id": "a524ed94-626c-462a-b283-9f001d106444",
   "metadata": {},
   "outputs": [],
   "source": [
    "def mean(values):\n",
    "    \"\"\"Get the mean of a sorted list of values\n",
    "  \n",
    "    Args:\n",
    "      values (iterable of float): A list of numbers\n",
    "  \n",
    "    Returns:\n",
    "      float\n",
    "    \"\"\"\n",
    "    # Write the mean() function\n",
    "    mean = sum(values)/len(values)\n",
    "    return mean"
   ]
  },
  {
   "cell_type": "code",
   "execution_count": null,
   "id": "8bd35879-fd10-45cf-b36d-524e09ad5425",
   "metadata": {},
   "outputs": [],
   "source": [
    "def median(values):\n",
    "    \"\"\"Get the median of a sorted list of values\n",
    "  \n",
    "    Args:\n",
    "      values (iterable of float): A list of numbers\n",
    "  \n",
    "    Returns:\n",
    "      float\n",
    "    \"\"\"\n",
    "    # Write the median() function\n",
    "    midpoint = int(len(values)/2)\n",
    "    if len(values)%2 == 0:\n",
    "        median = (values[midpoint-1] + values[midpoint])/2\n",
    "    else:\n",
    "        median = values[midpoint]\n",
    "    return median"
   ]
  },
  {
   "cell_type": "markdown",
   "id": "8d3a991f-aea1-4004-810b-eb31976f4c13",
   "metadata": {},
   "source": [
    "## Pass by assignment\n",
    "\n",
    "\n",
    "\n",
    "\n",
    "\n",
    "The way that Python passes information to functions is different from many other languages, it is referred to as pass by assignment\n",
    "\n",
    "\n",
    "\n",
    "__lets say we have a function fool() that takes a list and set the first value of list to 99, \n",
    "\n",
    "__then we set my_list to the value[1,2,3] and pass it to fool()\n",
    "\n",
    "      what do you expect the value of my_list after calling fool()?\n",
    "      \n",
    "      \n",
    "        **list in Python are mutable objects, meaning that they can be changed\n",
    "        \n",
    "        \n",
    "        \n",
    "        \n",
    "__now lets say we have another function bar(), that takes an argument and add ninety to it,  \n",
    "\n",
    "__then we assign the value 3 to the variable my_var, and call bar() with my_var as argument. \n",
    "\n",
    "      what do you expect the value of my_var, to be after we've called bar()?\n",
    "      \n",
    "      \n",
    "        **in Python, integers are immutable, meaning they cant be changed"
   ]
  },
  {
   "cell_type": "code",
   "execution_count": 79,
   "id": "6903f6a5-45af-4257-9892-b11c96a9a533",
   "metadata": {},
   "outputs": [
    {
     "data": {
      "text/plain": [
       "[90, 2, 3]"
      ]
     },
     "execution_count": 79,
     "metadata": {},
     "output_type": "execute_result"
    }
   ],
   "source": [
    "def fool(x):\n",
    "    x[0] = 90\n",
    "    return x\n",
    "\n",
    "\n",
    "my_list = [1,2,3]\n",
    "\n",
    "fool(my_list)"
   ]
  },
  {
   "cell_type": "code",
   "execution_count": 80,
   "id": "dc4e024e-f735-41fc-acf0-1ec4097b20dc",
   "metadata": {},
   "outputs": [
    {
     "name": "stdout",
     "output_type": "stream",
     "text": [
      "[90, 2, 3]\n"
     ]
    }
   ],
   "source": [
    "def fool(x):\n",
    "    x[0] = 90\n",
    "\n",
    "\n",
    "my_list = [1,2,3]\n",
    "\n",
    "fool(my_list)\n",
    "\n",
    "print(my_list)"
   ]
  },
  {
   "cell_type": "code",
   "execution_count": 82,
   "id": "5c417a7b-9e9e-4f93-9ec2-114928ce225a",
   "metadata": {},
   "outputs": [
    {
     "data": {
      "text/plain": [
       "93"
      ]
     },
     "execution_count": 82,
     "metadata": {},
     "output_type": "execute_result"
    }
   ],
   "source": [
    "def bar(x):\n",
    "    x = x + 90\n",
    "    return x\n",
    "    \n",
    "    \n",
    "my_var = 3\n",
    "\n",
    "bar(my_var)"
   ]
  },
  {
   "cell_type": "code",
   "execution_count": 83,
   "id": "dcb1b5c3-dd1d-4708-82d2-71f596d8d213",
   "metadata": {},
   "outputs": [
    {
     "name": "stdout",
     "output_type": "stream",
     "text": [
      "3\n"
     ]
    }
   ],
   "source": [
    "def bar(x):\n",
    "    x = x + 90\n",
    "    \n",
    "    \n",
    "my_var = 3\n",
    "\n",
    "bar(my_var)\n",
    "\n",
    "print(my_var)"
   ]
  },
  {
   "cell_type": "markdown",
   "id": "388f25c0-3fc0-45d7-8fe7-c554e127ea0d",
   "metadata": {},
   "source": [
    "## Digging deeper\n",
    "\n",
    "\n",
    "\n",
    "\n",
    "\n",
    "a = [1, 2, 3]    __<== you add new item to the group a, or you change the first item to others\n",
    "\n",
    "__>                          <== you assigned value 3 to my_var, then \n",
    "my_var = 3,  x = x + 90    __<== my_var value was assigned to x, and x then changed, but not my_var\n",
    "\n",
    "\n",
    "\n",
    "## In fact, there is no way in Python to change x or my_var directly, because integers are  immutable variables. \n",
    "\n",
    "\n",
    "\n",
    "__Whe we asign a list to the variable my_list, it set up a location in memory for it.  \n",
    "__Then, when we pass my_list to the function fool(), the parameter x gets assigned to that same location. \n",
    "__So when the function modifies the thing that x points to, it also modifying the thing that my_list point to. \n",
    "\n",
    "\n",
    "__In the other example, we created a variable my_var, and assigned it the value 3, \n",
    "__Then we passed it the the function bar(), which caused argument x to point sameplace my_var is pointing\n",
    "__But the bar() function assigns x to a new value, so the my_var variable isnt touched. \n",
    "\n"
   ]
  },
  {
   "cell_type": "markdown",
   "id": "19ac7e7d-609c-4ccd-9d93-d44555b65445",
   "metadata": {},
   "source": [
    "## Immutable or Mutable\n",
    "\n",
    "\n",
    "\n",
    "__there are only a few immutable  data types  in Python because almost everything is represented as an Object. \n",
    "\n",
    "\n",
    "\n",
    "\n",
    "## Immutable:\n",
    "\n",
    "int,  float,  bool,  string,  bytes,  tuple,  frozenset,  None\n",
    "\n",
    "\n",
    "## Mutable:\n",
    "\n",
    "list,  dict,  set,  bytearray,  objects,  functions,  almost everything else\n",
    "\n",
    "\n",
    "__to tell something is mutable or not is to see if there is a function or method that will change the object without assigning it to a new variable.   \n"
   ]
  },
  {
   "cell_type": "markdown",
   "id": "1d9e01eb-d8be-44f6-bbc5-c47d1f97baad",
   "metadata": {},
   "source": [
    "## Mutable default arguments are dangerous\n",
    "\n",
    "\n",
    "\n",
    "\n",
    "\n"
   ]
  },
  {
   "cell_type": "code",
   "execution_count": 86,
   "id": "ab7edc3c-0356-4830-965c-59fdb6fa83ce",
   "metadata": {},
   "outputs": [
    {
     "data": {
      "text/plain": [
       "[1]"
      ]
     },
     "execution_count": 86,
     "metadata": {},
     "output_type": "execute_result"
    }
   ],
   "source": [
    "def fool(var=[]):\n",
    "    var.append(1)\n",
    "    return var\n",
    "\n",
    "\n",
    "fool()"
   ]
  },
  {
   "cell_type": "code",
   "execution_count": 87,
   "id": "ff5c4aee-8249-4211-b031-f98a35ca7267",
   "metadata": {},
   "outputs": [
    {
     "data": {
      "text/plain": [
       "[1, 1]"
      ]
     },
     "execution_count": 87,
     "metadata": {},
     "output_type": "execute_result"
    }
   ],
   "source": [
    "fool()"
   ]
  },
  {
   "cell_type": "code",
   "execution_count": 101,
   "id": "22c2b370-892c-4232-8fd1-fa282f381b0c",
   "metadata": {},
   "outputs": [
    {
     "data": {
      "text/plain": [
       "[None, 1]"
      ]
     },
     "execution_count": 101,
     "metadata": {},
     "output_type": "execute_result"
    }
   ],
   "source": [
    "def fool(var=[None]):\n",
    "    var.append(1)\n",
    "    return var\n",
    "\n",
    "\n",
    "fool()"
   ]
  },
  {
   "cell_type": "code",
   "execution_count": 98,
   "id": "0c09c099-6cc3-4443-a576-b79c0744044e",
   "metadata": {},
   "outputs": [
    {
     "data": {
      "text/plain": [
       "[1]"
      ]
     },
     "execution_count": 98,
     "metadata": {},
     "output_type": "execute_result"
    }
   ],
   "source": [
    "def fool(var=None):\n",
    "    var = []\n",
    "    var.append(1)\n",
    "    return var\n",
    "\n",
    "\n",
    "fool()"
   ]
  },
  {
   "cell_type": "code",
   "execution_count": 99,
   "id": "736fe96c-e9d5-40bb-abcb-785132f65807",
   "metadata": {},
   "outputs": [
    {
     "data": {
      "text/plain": [
       "[1]"
      ]
     },
     "execution_count": 99,
     "metadata": {},
     "output_type": "execute_result"
    }
   ],
   "source": [
    "fool()"
   ]
  },
  {
   "cell_type": "markdown",
   "id": "a10cfccd-1f77-4987-bed1-db9c760faf90",
   "metadata": {},
   "source": [
    "## Mutable or immutable?\n",
    "\n",
    "\n",
    "The following function adds a mapping between a string and the lowercase version of that string to a dictionary. What do you expect the values of d and s to be after the function is called?\n",
    "\n",
    "def store_lower(_dict, _string):\n",
    "  \"\"\"Add a mapping between `_string` and a lowercased version of `_string` to `_dict`\n",
    "\n",
    "  Args:\n",
    "    _dict (dict): The dictionary to update.\n",
    "    _string (str): The string to add.\n",
    "  \"\"\"\n",
    "  orig_string = _string\n",
    "  _string = _string.lower()\n",
    "  _dict[orig_string] = _string\n",
    "\n",
    "d = {}\n",
    "s = 'Hello'\n",
    "\n",
    "store_lower(d, s)\n"
   ]
  },
  {
   "cell_type": "markdown",
   "id": "f929cb90-805a-4fc5-9b38-15836ef43383",
   "metadata": {},
   "source": [
    "Unlike lists and tuples, there is no add(), insert(), or append() method that you can use to add items to your data structure. Instead, you have to create a new index key, which will then be used to store the value you want to store in your dictionary.\n",
    "\n",
    "\n",
    "dictionary_name[key] = value\n",
    "\n",
    "  __the way append key and value into a dictionary"
   ]
  },
  {
   "cell_type": "code",
   "execution_count": 106,
   "id": "7f2558f0-dcdd-42d1-952a-cbc24b8f4ecf",
   "metadata": {},
   "outputs": [
    {
     "data": {
      "text/plain": [
       "{'HelloWorld': 'helloworld'}"
      ]
     },
     "execution_count": 106,
     "metadata": {},
     "output_type": "execute_result"
    }
   ],
   "source": [
    "dic = {}\n",
    "\n",
    "values = 'HelloWorld'\n",
    "lvalues = values.lower()\n",
    "\n",
    "dic[values] = lvalues\n",
    "\n",
    "dic"
   ]
  },
  {
   "cell_type": "code",
   "execution_count": 108,
   "id": "1e8d0b6a-5f16-4252-8c62-8fd602228ff5",
   "metadata": {},
   "outputs": [
    {
     "data": {
      "text/plain": [
       "'helloworld'"
      ]
     },
     "execution_count": 108,
     "metadata": {},
     "output_type": "execute_result"
    }
   ],
   "source": [
    "#  Accessing elements of a dictionary\n",
    "\n",
    "#  The data inside a dictionary is available in a key/value pair. To access the elements \n",
    "#  from a dictionary, you need to use square brackets ([‘key’]) with the key inside it.\n",
    "\n",
    "\n",
    "dic['HelloWorld']"
   ]
  },
  {
   "cell_type": "code",
   "execution_count": 109,
   "id": "4ea19213-09d1-4237-90ad-0463abcfcbb4",
   "metadata": {},
   "outputs": [
    {
     "data": {
      "text/plain": [
       "{}"
      ]
     },
     "execution_count": 109,
     "metadata": {},
     "output_type": "execute_result"
    }
   ],
   "source": [
    "del dic['HelloWorld']\n",
    "\n",
    "dic"
   ]
  },
  {
   "cell_type": "code",
   "execution_count": 110,
   "id": "646404d9-82c2-455f-8627-ae7c347fa344",
   "metadata": {},
   "outputs": [
    {
     "data": {
      "text/plain": [
       "\u001b[0;31mInit signature:\u001b[0m \u001b[0mdict\u001b[0m\u001b[0;34m(\u001b[0m\u001b[0mself\u001b[0m\u001b[0;34m,\u001b[0m \u001b[0;34m/\u001b[0m\u001b[0;34m,\u001b[0m \u001b[0;34m*\u001b[0m\u001b[0margs\u001b[0m\u001b[0;34m,\u001b[0m \u001b[0;34m**\u001b[0m\u001b[0mkwargs\u001b[0m\u001b[0;34m)\u001b[0m\u001b[0;34m\u001b[0m\u001b[0;34m\u001b[0m\u001b[0m\n",
       "\u001b[0;31mDocstring:\u001b[0m     \n",
       "dict() -> new empty dictionary\n",
       "dict(mapping) -> new dictionary initialized from a mapping object's\n",
       "    (key, value) pairs\n",
       "dict(iterable) -> new dictionary initialized as if via:\n",
       "    d = {}\n",
       "    for k, v in iterable:\n",
       "        d[k] = v\n",
       "dict(**kwargs) -> new dictionary initialized with the name=value pairs\n",
       "    in the keyword argument list.  For example:  dict(one=1, two=2)\n",
       "\u001b[0;31mType:\u001b[0m           type\n",
       "\u001b[0;31mSubclasses:\u001b[0m     OrderedDict, defaultdict, Counter, _EnumDict, StgDict, Bunch, Config, _DefaultOptionDict, ObjectDict, Struct, ...\n"
      ]
     },
     "metadata": {},
     "output_type": "display_data"
    }
   ],
   "source": [
    "?dict"
   ]
  },
  {
   "cell_type": "code",
   "execution_count": 111,
   "id": "b9bd41ff-a08d-44c8-a33f-38f09ba80349",
   "metadata": {},
   "outputs": [
    {
     "data": {
      "text/plain": [
       "['__class__',\n",
       " '__class_getitem__',\n",
       " '__contains__',\n",
       " '__delattr__',\n",
       " '__delitem__',\n",
       " '__dir__',\n",
       " '__doc__',\n",
       " '__eq__',\n",
       " '__format__',\n",
       " '__ge__',\n",
       " '__getattribute__',\n",
       " '__getitem__',\n",
       " '__gt__',\n",
       " '__hash__',\n",
       " '__init__',\n",
       " '__init_subclass__',\n",
       " '__ior__',\n",
       " '__iter__',\n",
       " '__le__',\n",
       " '__len__',\n",
       " '__lt__',\n",
       " '__ne__',\n",
       " '__new__',\n",
       " '__or__',\n",
       " '__reduce__',\n",
       " '__reduce_ex__',\n",
       " '__repr__',\n",
       " '__reversed__',\n",
       " '__ror__',\n",
       " '__setattr__',\n",
       " '__setitem__',\n",
       " '__sizeof__',\n",
       " '__str__',\n",
       " '__subclasshook__',\n",
       " 'clear',\n",
       " 'copy',\n",
       " 'fromkeys',\n",
       " 'get',\n",
       " 'items',\n",
       " 'keys',\n",
       " 'pop',\n",
       " 'popitem',\n",
       " 'setdefault',\n",
       " 'update',\n",
       " 'values']"
      ]
     },
     "execution_count": 111,
     "metadata": {},
     "output_type": "execute_result"
    }
   ],
   "source": [
    "dir(dict)"
   ]
  },
  {
   "cell_type": "code",
   "execution_count": 174,
   "id": "b92da2c9-16b6-4c47-9577-7e5482cb1f08",
   "metadata": {},
   "outputs": [
    {
     "ename": "NameError",
     "evalue": "name 'pop' is not defined",
     "output_type": "error",
     "traceback": [
      "\u001b[0;31m---------------------------------------------------------------------------\u001b[0m",
      "\u001b[0;31mNameError\u001b[0m                                 Traceback (most recent call last)",
      "\u001b[0;32m/tmp/ipykernel_30690/2391815396.py\u001b[0m in \u001b[0;36m<module>\u001b[0;34m\u001b[0m\n\u001b[1;32m      7\u001b[0m \u001b[0;34m\u001b[0m\u001b[0m\n\u001b[1;32m      8\u001b[0m \u001b[0;32mimport\u001b[0m \u001b[0minspect\u001b[0m\u001b[0;34m\u001b[0m\u001b[0;34m\u001b[0m\u001b[0m\n\u001b[0;32m----> 9\u001b[0;31m \u001b[0minspect\u001b[0m\u001b[0;34m.\u001b[0m\u001b[0mgetdoc\u001b[0m\u001b[0;34m(\u001b[0m\u001b[0mpop\u001b[0m\u001b[0;34m)\u001b[0m\u001b[0;34m\u001b[0m\u001b[0;34m\u001b[0m\u001b[0m\n\u001b[0m\u001b[1;32m     10\u001b[0m \u001b[0;31m#pop.__doc__\u001b[0m\u001b[0;34m\u001b[0m\u001b[0;34m\u001b[0m\u001b[0;34m\u001b[0m\u001b[0m\n",
      "\u001b[0;31mNameError\u001b[0m: name 'pop' is not defined"
     ]
    }
   ],
   "source": [
    "#from dict import pop\n",
    "\n",
    "\n",
    "# To view a function's docstring, you can either use print(function_name.__doc__) \n",
    "# or print(inspect.getdoc(function_name)).\n",
    "\n",
    "\n",
    "import inspect\n",
    "inspect.getdoc(pop)\n",
    "#pop.__doc__"
   ]
  },
  {
   "cell_type": "code",
   "execution_count": 128,
   "id": "212dd311-6738-4c06-b22e-37d4ec90ddcc",
   "metadata": {},
   "outputs": [
    {
     "data": {
      "text/plain": [
       "[0, 1, 4, 9, 16, 25, 36, 49, 64, 81]"
      ]
     },
     "execution_count": 128,
     "metadata": {},
     "output_type": "execute_result"
    }
   ],
   "source": [
    "squares = [x**2 for x in range(10)]   # <= This gives you a list\n",
    "squares"
   ]
  },
  {
   "cell_type": "code",
   "execution_count": 126,
   "id": "1102389e-0f4a-48f6-8d27-9ebfb9796bad",
   "metadata": {},
   "outputs": [
    {
     "data": {
      "text/plain": [
       "\u001b[0;31mType:\u001b[0m        list\n",
       "\u001b[0;31mString form:\u001b[0m [0, 1, 4, 9, 16, 25, 36, 49, 64, 81]\n",
       "\u001b[0;31mLength:\u001b[0m      10\n",
       "\u001b[0;31mDocstring:\u001b[0m  \n",
       "Built-in mutable sequence.\n",
       "\n",
       "If no argument is given, the constructor creates a new empty list.\n",
       "The argument must be an iterable if specified.\n"
      ]
     },
     "metadata": {},
     "output_type": "display_data"
    }
   ],
   "source": [
    "?squares"
   ]
  },
  {
   "cell_type": "code",
   "execution_count": 127,
   "id": "8088bbce-9efb-4eeb-b520-af29e40d6fd8",
   "metadata": {},
   "outputs": [
    {
     "data": {
      "text/plain": [
       "array([[1, 'Cliff', 'DataScientist', 800000],\n",
       "       [2, 'Frank', 'DataEngineer', 900008],\n",
       "       [3, 'Steve', 'PythonDeveloper', 900001],\n",
       "       [4, 'Coco', 'DataEngineer', 900002],\n",
       "       [5, 'John', 'DataScientist', 900003]], dtype=object)"
      ]
     },
     "execution_count": 127,
     "metadata": {},
     "output_type": "execute_result"
    }
   ],
   "source": [
    "import pandas as pd\n",
    "\n",
    "def load_data(path):\n",
    "    \n",
    "    df = pd.read_csv(path)\n",
    "    #y = df['labels']\n",
    "    X = df[[i for i in list(df.columns) if i != 'labels']].values   # <= This gives you an array\n",
    "\n",
    "    \n",
    "    return X#,  y\n",
    "\n",
    "\n",
    "load_data('train.csv')"
   ]
  },
  {
   "cell_type": "code",
   "execution_count": 131,
   "id": "4e5a8540-ed84-4f0c-bb36-334da5b6d8a0",
   "metadata": {},
   "outputs": [
    {
     "data": {
      "text/plain": [
       "\u001b[0;31mType:\u001b[0m        set\n",
       "\u001b[0;31mString form:\u001b[0m set()\n",
       "\u001b[0;31mLength:\u001b[0m      0\n",
       "\u001b[0;31mDocstring:\u001b[0m  \n",
       "set() -> new empty set object\n",
       "set(iterable) -> new set object\n",
       "\n",
       "Build an unordered collection of unique elements.\n"
      ]
     },
     "metadata": {},
     "output_type": "display_data"
    }
   ],
   "source": [
    "a = set()\n",
    "?a"
   ]
  },
  {
   "cell_type": "markdown",
   "id": "ec6d92f3-2d17-4033-b1ce-eb1a6a3a1f7a",
   "metadata": {},
   "source": [
    "## Think about date structure, why using set? why using tuple and others \n",
    "\n",
    "_*************************************************************************************************_\n",
    "\n",
    "\n",
    "\n",
    "\n"
   ]
  },
  {
   "cell_type": "code",
   "execution_count": 165,
   "id": "c241f089-ccf2-40cf-8fac-d8a831de549a",
   "metadata": {},
   "outputs": [
    {
     "data": {
      "text/plain": [
       "\u001b[0;31mType:\u001b[0m        tuple\n",
       "\u001b[0;31mString form:\u001b[0m (2, 3)\n",
       "\u001b[0;31mLength:\u001b[0m      2\n",
       "\u001b[0;31mDocstring:\u001b[0m  \n",
       "Built-in immutable sequence.\n",
       "\n",
       "If no argument is given, the constructor returns an empty tuple.\n",
       "If iterable is specified the tuple is initialized from iterable's items.\n",
       "\n",
       "If the argument is a tuple, the return value is the same object.\n"
      ]
     },
     "metadata": {},
     "output_type": "display_data"
    }
   ],
   "source": [
    "a = (2, 3)\n",
    "\n",
    "?a"
   ]
  },
  {
   "cell_type": "code",
   "execution_count": 182,
   "id": "a7c503d8-89ad-404f-b754-14ca3ec015d1",
   "metadata": {},
   "outputs": [
    {
     "data": {
      "text/plain": [
       "['banana', 'loganberry', 'passion fruit']"
      ]
     },
     "execution_count": 182,
     "metadata": {},
     "output_type": "execute_result"
    }
   ],
   "source": [
    "freshfruit = ['  banana', '  loganberry ', 'passion fruit  ']\n",
    "[weapon.strip() for weapon in freshfruit]\n",
    "\n",
    "\n",
    "#print(strip.__doc__)"
   ]
  },
  {
   "cell_type": "code",
   "execution_count": 202,
   "id": "1d9dddc8-3cf3-4343-b51c-f39bff60806c",
   "metadata": {},
   "outputs": [
    {
     "name": "stdout",
     "output_type": "stream",
     "text": [
      "A collection of string constants.\n",
      "\n",
      "Public module variables:\n",
      "\n",
      "whitespace -- a string containing all ASCII whitespace\n",
      "ascii_lowercase -- a string containing all ASCII lowercase letters\n",
      "ascii_uppercase -- a string containing all ASCII uppercase letters\n",
      "ascii_letters -- a string containing all ASCII letters\n",
      "digits -- a string containing all ASCII decimal digits\n",
      "hexdigits -- a string containing all ASCII hexadecimal digits\n",
      "octdigits -- a string containing all ASCII octal digits\n",
      "punctuation -- a string containing all ASCII punctuation characters\n",
      "printable -- a string containing all ASCII characters considered printable\n",
      "\n",
      "\n"
     ]
    }
   ],
   "source": [
    "import string\n",
    "\n",
    "print(string.__doc__)"
   ]
  },
  {
   "cell_type": "code",
   "execution_count": 195,
   "id": "81f195e5-146e-4828-9ed7-f6f2d92f0ebb",
   "metadata": {},
   "outputs": [
    {
     "name": "stdout",
     "output_type": "stream",
     "text": [
      "Return a copy of the string with leading and trailing whitespace removed.\n",
      "\n",
      "If chars is given and not None, remove characters in chars instead.\n"
     ]
    }
   ],
   "source": [
    "a = '  banana'\n",
    "dir(a.strip)\n",
    "print(a.strip.__doc__)  \n",
    "\n",
    "\n",
    "# ------------------------------------------------------------------------------ #\n",
    "# checking\n",
    "# The dir() function returns all properties and methods of the specified object, \n",
    "#   without the values. This function will return all the properties and methods, \n",
    "#   even built-in properties which are default for all object."
   ]
  },
  {
   "cell_type": "code",
   "execution_count": 183,
   "id": "8c75bd5e-f867-4063-9930-0f26490cde29",
   "metadata": {},
   "outputs": [
    {
     "name": "stdout",
     "output_type": "stream",
     "text": [
      "Create portable serialized representations of Python objects.\n",
      "\n",
      "See module copyreg for a mechanism for registering custom picklers.\n",
      "See module pickletools source for extensive comments.\n",
      "\n",
      "Classes:\n",
      "\n",
      "    Pickler\n",
      "    Unpickler\n",
      "\n",
      "Functions:\n",
      "\n",
      "    dump(object, file)\n",
      "    dumps(object) -> string\n",
      "    load(file) -> object\n",
      "    loads(bytes) -> object\n",
      "\n",
      "Misc variables:\n",
      "\n",
      "    __version__\n",
      "    format_version\n",
      "    compatible_formats\n",
      "\n",
      "\n"
     ]
    }
   ],
   "source": [
    "import pickle\n",
    "print(pickle.__doc__)"
   ]
  },
  {
   "cell_type": "code",
   "execution_count": 27,
   "id": "57d91cd4-9096-4c30-b927-054cd2b7db83",
   "metadata": {},
   "outputs": [],
   "source": [
    "# dir(2)"
   ]
  },
  {
   "cell_type": "code",
   "execution_count": 124,
   "id": "ef7d759b-5fc4-4595-b8e2-e4ff694d1934",
   "metadata": {},
   "outputs": [
    {
     "data": {
      "text/html": [
       "<div>\n",
       "<style scoped>\n",
       "    .dataframe tbody tr th:only-of-type {\n",
       "        vertical-align: middle;\n",
       "    }\n",
       "\n",
       "    .dataframe tbody tr th {\n",
       "        vertical-align: top;\n",
       "    }\n",
       "\n",
       "    .dataframe thead th {\n",
       "        text-align: right;\n",
       "    }\n",
       "</style>\n",
       "<table border=\"1\" class=\"dataframe\">\n",
       "  <thead>\n",
       "    <tr style=\"text-align: right;\">\n",
       "      <th></th>\n",
       "      <th>id</th>\n",
       "      <th>name</th>\n",
       "      <th>job</th>\n",
       "      <th>salary</th>\n",
       "    </tr>\n",
       "  </thead>\n",
       "  <tbody>\n",
       "    <tr>\n",
       "      <th>0</th>\n",
       "      <td>1</td>\n",
       "      <td>Cliff</td>\n",
       "      <td>DataScientist</td>\n",
       "      <td>800000</td>\n",
       "    </tr>\n",
       "    <tr>\n",
       "      <th>1</th>\n",
       "      <td>2</td>\n",
       "      <td>Frank</td>\n",
       "      <td>DataEngineer</td>\n",
       "      <td>900008</td>\n",
       "    </tr>\n",
       "    <tr>\n",
       "      <th>2</th>\n",
       "      <td>3</td>\n",
       "      <td>Steve</td>\n",
       "      <td>PythonDeveloper</td>\n",
       "      <td>900001</td>\n",
       "    </tr>\n",
       "    <tr>\n",
       "      <th>3</th>\n",
       "      <td>4</td>\n",
       "      <td>Coco</td>\n",
       "      <td>DataEngineer</td>\n",
       "      <td>900002</td>\n",
       "    </tr>\n",
       "    <tr>\n",
       "      <th>4</th>\n",
       "      <td>5</td>\n",
       "      <td>John</td>\n",
       "      <td>DataScientist</td>\n",
       "      <td>900003</td>\n",
       "    </tr>\n",
       "  </tbody>\n",
       "</table>\n",
       "</div>"
      ],
      "text/plain": [
       "   id   name              job  salary\n",
       "0   1  Cliff    DataScientist  800000\n",
       "1   2  Frank     DataEngineer  900008\n",
       "2   3  Steve  PythonDeveloper  900001\n",
       "3   4   Coco     DataEngineer  900002\n",
       "4   5   John    DataScientist  900003"
      ]
     },
     "execution_count": 124,
     "metadata": {},
     "output_type": "execute_result"
    }
   ],
   "source": [
    "import pandas as pd\n",
    "\n",
    "def load_data(path):\n",
    "    \n",
    "    df = pd.read_csv(path)\n",
    "    #y = df['labels']\n",
    "    X = df[[i for i in list(df.columns) if i != 'labels']]\n",
    "\n",
    "    \n",
    "    return X#,  y\n",
    "\n",
    "\n",
    "load_data('train.csv')"
   ]
  },
  {
   "cell_type": "code",
   "execution_count": 11,
   "id": "920e41f1-1cb2-43f3-a691-c111a94ccc92",
   "metadata": {},
   "outputs": [
    {
     "data": {
      "text/plain": [
       "(   id   name              job  salary\n",
       " 0   1  Cliff    DataScientist  800000\n",
       " 1   2  Frank     DataEngineer  900008\n",
       " 2   3  Steve  PythonDeveloper  900001\n",
       " 3   4   Coco     DataEngineer  900002\n",
       " 4   5   John    DataScientist  900003,\n",
       " 0    1\n",
       " 1    0\n",
       " 2    0\n",
       " 3    3\n",
       " 4    1\n",
       " Name: labels, dtype: int64)"
      ]
     },
     "execution_count": 11,
     "metadata": {},
     "output_type": "execute_result"
    }
   ],
   "source": [
    "import pandas as pd\n",
    "\n",
    "def load_data(path):\n",
    "    \n",
    "    df = pd.read_csv(path)\n",
    "    y = df['labels']\n",
    "    X = df[[i for i in list(df.columns) if i != 'labels']]\n",
    "\n",
    "    \n",
    "    return X,  y\n",
    "\n",
    "\n",
    "load_data('train.csv')"
   ]
  },
  {
   "cell_type": "markdown",
   "id": "670849d0-cac1-4947-b658-19351cb7bd0d",
   "metadata": {},
   "source": [
    "## Best practice for default arguments\n",
    "\n",
    "One of your co-workers (who obviously didn't take this course) has written this function for adding a column to a pandas DataFrame. Unfortunately, they used a mutable variable as a default argument value! Please show them a better way to do this so that they don't get unexpected behavior.\n",
    "\n",
    "def add_column(values, df=pandas.DataFrame()):\n",
    "  \"\"\"Add a column of `values` to a DataFrame `df`.\n",
    "  The column will be named \"col_<n>\" where \"n\" is\n",
    "  the numerical index of the column.\n",
    "\n",
    "  Args:\n",
    "    values (iterable): The values of the new column\n",
    "    df (DataFrame, optional): The DataFrame to update.\n",
    "      If no DataFrame is passed, one is created by default.\n",
    "\n",
    "  Returns:\n",
    "    DataFrame\n",
    "  \"\"\"\n",
    "  df['col_{}'.format(len(df.columns))] = values\n",
    "  return df\n",
    "\n",
    "    \n",
    "    \n",
    "\n",
    "    Change the default value of df to an immutable value to follow best practices.\n",
    "    Update the code of the function so that a new DataFrame is created if the caller didn't pass one.\n"
   ]
  },
  {
   "cell_type": "code",
   "execution_count": 142,
   "id": "2e1c3528-d4a0-4949-8e6a-579f31a08f31",
   "metadata": {},
   "outputs": [
    {
     "data": {
      "text/html": [
       "<div>\n",
       "<style scoped>\n",
       "    .dataframe tbody tr th:only-of-type {\n",
       "        vertical-align: middle;\n",
       "    }\n",
       "\n",
       "    .dataframe tbody tr th {\n",
       "        vertical-align: top;\n",
       "    }\n",
       "\n",
       "    .dataframe thead th {\n",
       "        text-align: right;\n",
       "    }\n",
       "</style>\n",
       "<table border=\"1\" class=\"dataframe\">\n",
       "  <thead>\n",
       "    <tr style=\"text-align: right;\">\n",
       "      <th></th>\n",
       "      <th>col_0</th>\n",
       "      <th>col_1</th>\n",
       "    </tr>\n",
       "  </thead>\n",
       "  <tbody>\n",
       "    <tr>\n",
       "      <th>0</th>\n",
       "      <td>1</td>\n",
       "      <td>1</td>\n",
       "    </tr>\n",
       "    <tr>\n",
       "      <th>1</th>\n",
       "      <td>2</td>\n",
       "      <td>2</td>\n",
       "    </tr>\n",
       "    <tr>\n",
       "      <th>2</th>\n",
       "      <td>3</td>\n",
       "      <td>3</td>\n",
       "    </tr>\n",
       "    <tr>\n",
       "      <th>3</th>\n",
       "      <td>4</td>\n",
       "      <td>4</td>\n",
       "    </tr>\n",
       "    <tr>\n",
       "      <th>4</th>\n",
       "      <td>5</td>\n",
       "      <td>5</td>\n",
       "    </tr>\n",
       "    <tr>\n",
       "      <th>5</th>\n",
       "      <td>6</td>\n",
       "      <td>6</td>\n",
       "    </tr>\n",
       "    <tr>\n",
       "      <th>6</th>\n",
       "      <td>7</td>\n",
       "      <td>7</td>\n",
       "    </tr>\n",
       "    <tr>\n",
       "      <th>7</th>\n",
       "      <td>8</td>\n",
       "      <td>8</td>\n",
       "    </tr>\n",
       "  </tbody>\n",
       "</table>\n",
       "</div>"
      ],
      "text/plain": [
       "   col_0  col_1\n",
       "0      1      1\n",
       "1      2      2\n",
       "2      3      3\n",
       "3      4      4\n",
       "4      5      5\n",
       "5      6      6\n",
       "6      7      7\n",
       "7      8      8"
      ]
     },
     "execution_count": 142,
     "metadata": {},
     "output_type": "execute_result"
    }
   ],
   "source": [
    "# Use an immutable variable for the default argument\n",
    "import pandas as pandas\n",
    "\n",
    "def better_add_column(values, df=None):\n",
    "    \"\"\"Add a column of `values` to a DataFrame `df`.\n",
    "    The column will be named \"col_<n>\" where \"n\" is\n",
    "    the numerical index of the column.\n",
    "\n",
    "    Args:\n",
    "      values (iterable): The values of the new column\n",
    "      df (DataFrame, optional): The DataFrame to update.\n",
    "        If no DataFrame is passed, one is created by default.\n",
    "\n",
    "    Returns:\n",
    "      DataFrame\n",
    "    \"\"\"\n",
    "    # Update the function to create a default DataFrame\n",
    "    if df is None:\n",
    "        df = pandas.DataFrame()\n",
    "    df['col_{}'.format(len(df.columns))] = values\n",
    "    return df\n",
    "\n",
    "\n",
    "\n",
    "\n",
    "values = [1,2,3,4,5,6,7,8]\n",
    "\n",
    "df = better_add_column(values)\n",
    "better_add_column(values, df)"
   ]
  },
  {
   "cell_type": "markdown",
   "id": "b77debf6-ff72-4b63-864b-45470195868e",
   "metadata": {},
   "source": [
    "## Using context managers\n",
    "\n",
    "\n",
    "\n",
    "\n",
    "\n",
    "In this lession, we'll introduce the concept of context managers and show you how to use these special kinds of functions.  \n",
    "\n",
    "    __A context manager is type of function that set up a context, for your code to run in, runs your code, and then removes the context.  "
   ]
  },
  {
   "cell_type": "code",
   "execution_count": 206,
   "id": "df62eaa4-6dae-4154-874f-98937647e977",
   "metadata": {},
   "outputs": [
    {
     "name": "stdout",
     "output_type": "stream",
     "text": [
      "the file is 54 characters long\n"
     ]
    }
   ],
   "source": [
    "# a real world example of using context manager\n",
    "\n",
    "with open('hello.txt') as file:\n",
    "    text = file.read()\n",
    "    length = len(text)\n",
    "    \n",
    "    \n",
    "print('the file is {} characters long'.format(length))"
   ]
  },
  {
   "cell_type": "code",
   "execution_count": 7,
   "id": "28ba80a9-3f96-43d7-805e-35640b9f7dca",
   "metadata": {},
   "outputs": [
    {
     "name": "stdout",
     "output_type": "stream",
     "text": [
      "the file content is: \n",
      " 148574 \n"
     ]
    }
   ],
   "source": [
    "# a real world example of using context manager\n",
    "\n",
    "path = 'alice_in_wonderland.txt'\n",
    "\n",
    "with open(path, 'r') as file:\n",
    "    #text = file.read()\n",
    "    #length = len(text)\n",
    "    \n",
    "    #text = file.readline()\n",
    "    text = file.read()\n",
    "    \n",
    "    \n",
    "print('the file content is: \\n {} '.format(len(text)))"
   ]
  },
  {
   "cell_type": "markdown",
   "id": "919d93df-861e-4ed6-8e51-6bb0dd17f4fe",
   "metadata": {},
   "source": [
    "## the open function is a context manager, \n",
    "\n",
    "    when you write with open(),  it opens a file that you can read from or write to.  \n",
    "    Then it gives control back to your code so that you can perform operations on the file object.  \n",
    "    \n",
    "    __In this example, we read the text of the file, store the contents of the file in a variable text, and store the length of the contents in the variable length, when the code inside the indented block is done, the open() function makes sure that the file is closed before continuing on in the script.  \n",
    "    \n",
    "    __The print statement is outside of the context, so by the time it runs the file is closed. \n",
    "    \n",
    "    \n",
    "    \n",
    "    \n",
    "    \n",
    "----------------------------------------------------------------------------------------\n",
    "with <context-manager>(<args>) as <variable-name>:\n",
    "    # Run your code here\n",
    "    # This code is running \"inside the context\"\n",
    "    \n",
    "# This code runs after the context is removed\n",
    "----------------------------------------------------------------------------------------\n",
    "    \n",
    "    \n",
    "    __Any time you use a context manager, it will looks like this, the key word 'with' lets Python know that you are trying to enter a context.  \n",
    "    __Then you call a function, you can call any function that is built to work as a context manager. \n",
    "    __A context manager can take arguments like normal function, you end with statement with a colon. \n",
    "     \n",
    "    Statements in Python that has a indented block after them, like foo loops, if/else statements, function definition, etc. are called Compound Statement.\n",
    "    The with statement is another type of compound statement. Any code that you want to run inside the context that the context manager created needs to be indented,  When the indented block is done, the context manager gets chance to clean up anything that it needs to, like when the open() context manager closed the file. \n",
    "    \n",
    "    Some context manager want to return a value that you can use inside the context. By adding as, and a variable name at the end of the with statement, you can assign the returned value to the variable name.\n",
    "    "
   ]
  },
  {
   "cell_type": "markdown",
   "id": "516e8ddf-4db1-4dca-8ee3-2d951f02db90",
   "metadata": {},
   "source": [
    "## The number of cats\n",
    "\n",
    "You are working on a natural language processing project to determine what makes great writers so great. Your current hypothesis is that great writers talk about cats a lot. To prove it, you want to count the number of times the word \"cat\" appears in \"Alice's Adventures in Wonderland\" by Lewis Carroll. You have already downloaded a text file, alice.txt, with the entire contents of this great book.\n",
    "\n",
    "\n",
    "Use the open() context manager to open alice.txt and assign the file to the file variable"
   ]
  },
  {
   "cell_type": "code",
   "execution_count": 10,
   "id": "1f6eb44c-1d90-4689-9c13-43c8ae66a9f6",
   "metadata": {},
   "outputs": [
    {
     "name": "stdout",
     "output_type": "stream",
     "text": [
      "Lewis Carroll uses the word \"cat\" 24 times\n"
     ]
    }
   ],
   "source": [
    "# Open \"alice.txt\" and assign the file to \"file\"\n",
    "with open('alice_in_wonderland.txt') as file:\n",
    "    text = file.read()\n",
    "\n",
    "    \n",
    "n = 0\n",
    "for word in text.split():\n",
    "    if word.lower() in ['cat', 'cats']:\n",
    "        n += 1\n",
    "\n",
    "print('Lewis Carroll uses the word \"cat\" {} times'.format(n))"
   ]
  },
  {
   "cell_type": "code",
   "execution_count": 43,
   "id": "2dddaaeb-d237-48d0-8d3e-327ca1c0c9e9",
   "metadata": {},
   "outputs": [
    {
     "data": {
      "text/plain": [
       "[\"Alice's\", 'Adventures', 'in', 'Wonderland', \"ALICE'S\"]"
      ]
     },
     "execution_count": 43,
     "metadata": {},
     "output_type": "execute_result"
    }
   ],
   "source": [
    "with open ('alice_in_wonderland.txt') as file:\n",
    "    text = file.read()\n",
    "    #content = print(text)  #*\n",
    "    \n",
    "a = text.split()  # <= it becomes a list\n",
    "# a.head()\n",
    "\n",
    "a[0:5] \n",
    "\n",
    "#content  #*"
   ]
  },
  {
   "cell_type": "code",
   "execution_count": 46,
   "id": "9a92c7a3-eb70-4ccd-bc6d-0f91ef459959",
   "metadata": {},
   "outputs": [
    {
     "name": "stdout",
     "output_type": "stream",
     "text": [
      "print(value, ..., sep=' ', end='\\n', file=sys.stdout, flush=False)\n",
      "\n",
      "Prints the values to a stream, or to sys.stdout by default.\n",
      "Optional keyword arguments:\n",
      "file:  a file-like object (stream); defaults to the current sys.stdout.\n",
      "sep:   string inserted between values, default a space.\n",
      "end:   string appended after the last value, default a newline.\n",
      "flush: whether to forcibly flush the stream.\n"
     ]
    }
   ],
   "source": [
    "print(print.__doc__)"
   ]
  },
  {
   "cell_type": "markdown",
   "id": "065c22d4-9e26-45a6-86e0-330ec79bb510",
   "metadata": {},
   "source": [
    "## The speed of cats\n",
    "\n",
    "You're working on a new web service that processes Instagram feeds to identify which pictures contain cats (don't ask why -- it's the internet). The code that processes the data is slower than you would like it to be, so you are working on tuning it up to run faster. Given an image, image, you have two functions that can process it:\n",
    "\n",
    "    process_with_numpy(image)\n",
    "    process_with_pytorch(image)\n",
    "\n",
    "Your colleague wrote a context manager, timer(), that will print out how long the code inside the context block takes to run. She is suggesting you use it to see which of the two options is faster. Time each function to determine which one to use in your web service.\n",
    "\n",
    "\n",
    "\n",
    "Hint\n",
    "\n",
    "    The timer() context manager does not take any arguments.\n",
    "    The timer() context manager doesn't yield a value, so you don't need an as <variable name> in your with statement.\n"
   ]
  },
  {
   "cell_type": "code",
   "execution_count": null,
   "id": "c22bb80f-4aef-49ad-962f-a4298bdeb7bc",
   "metadata": {},
   "outputs": [],
   "source": [
    "image = get_image_from_instagram()\n",
    "\n",
    "# Time how long process_with_numpy(image) takes to run\n",
    "with timer():\n",
    "    print('Numpy version')\n",
    "    process_with_numpy(image)\n",
    "\n",
    "# Time how long process_with_pytorch(image) takes to run\n",
    "with timer():\n",
    "    print('Pytorch version')\n",
    "    process_with_pytorch(image)"
   ]
  },
  {
   "cell_type": "code",
   "execution_count": 221,
   "id": "230cb2f8-5514-4963-969f-5823c41eb82c",
   "metadata": {},
   "outputs": [
    {
     "ename": "SyntaxError",
     "evalue": "invalid syntax (2481250165.py, line 1)",
     "output_type": "error",
     "traceback": [
      "\u001b[0;36m  File \u001b[0;32m\"/tmp/ipykernel_30690/2481250165.py\"\u001b[0;36m, line \u001b[0;32m1\u001b[0m\n\u001b[0;31m    import timer()\u001b[0m\n\u001b[0m                ^\u001b[0m\n\u001b[0;31mSyntaxError\u001b[0m\u001b[0;31m:\u001b[0m invalid syntax\n"
     ]
    }
   ],
   "source": [
    "import timer()\n",
    "# how can I write this %time function, or agic %time function\n",
    "\n",
    "\n",
    "\n",
    "path = 'alice_in_wonderland.txt'\n",
    "\n",
    "# Time how long process_with_numpy(image) takes to run\n",
    "with timer():\n",
    "    print('Cat version')\n",
    "    count_cat(path)\n",
    "\n",
    "# Time how long process_with_pytorch(image) takes to run\n",
    "with timer:\n",
    "    print('Alice version')\n",
    "    count_alice(path)"
   ]
  },
  {
   "cell_type": "code",
   "execution_count": 219,
   "id": "e1e1de47-1cf3-4d8d-9826-210418945d75",
   "metadata": {},
   "outputs": [
    {
     "name": "stdout",
     "output_type": "stream",
     "text": [
      "CPU times: user 3 µs, sys: 1e+03 ns, total: 4 µs\n",
      "Wall time: 6.2 µs\n"
     ]
    },
    {
     "data": {
      "text/plain": [
       "24"
      ]
     },
     "execution_count": 219,
     "metadata": {},
     "output_type": "execute_result"
    }
   ],
   "source": [
    "%time\n",
    "\n",
    "def count_cat(path, count=0):\n",
    "    \n",
    "    with open(path) as file:\n",
    "        content = file.read()\n",
    "        \n",
    "        for word in content.split():\n",
    "            if word.lower() in ['cat', 'cats']:\n",
    "                count += 1\n",
    "            \n",
    "    return count\n",
    "\n",
    "\n",
    "count_cat('alice_in_wonderland.txt')"
   ]
  },
  {
   "cell_type": "code",
   "execution_count": 28,
   "id": "ec566180-ad28-47c6-ab01-3c3110ee4180",
   "metadata": {},
   "outputs": [
    {
     "name": "stdout",
     "output_type": "stream",
     "text": [
      "CPU times: user 2 µs, sys: 1e+03 ns, total: 3 µs\n",
      "Wall time: 5.72 µs\n"
     ]
    },
    {
     "data": {
      "text/plain": [
       "233"
      ]
     },
     "execution_count": 28,
     "metadata": {},
     "output_type": "execute_result"
    }
   ],
   "source": [
    "%time\n",
    "\n",
    "def count_alice(path, count=0):\n",
    "    \n",
    "    with open(path) as file:\n",
    "        content = file.read()\n",
    "        \n",
    "        for word in content.split():\n",
    "            if word.lower() in [\"alice's\", 'alice']:\n",
    "                count += 1\n",
    "            \n",
    "    return count\n",
    "\n",
    "\n",
    "count_alice('alice_in_wonderland.txt')"
   ]
  },
  {
   "cell_type": "markdown",
   "id": "d6445a7e-941e-476d-ada1-74c240036426",
   "metadata": {},
   "source": [
    "## Writing context managers\n",
    "\n",
    "\n",
    "\n",
    "\n",
    "\n",
    "Two ways to define a Context Manager in Python,  \n",
    "    __by using a class that has special __enter__() and __exit__() methods or \n",
    "    __by decorating a certain function *\n",
    "    \n",
    "    \n",
    "    \n",
    "    How to create a context manager? \n",
    "   \n",
    "      1, define a function,\n",
    "      2, (optional) you can add any setup code your context manager need\n",
    "      3, you must use yield keyword to signal to Python that this is a special kind of function\n",
    "      4, after yield statement, you can add any teardown code that you need to clean up the context\n",
    "      5, finally you must decorate the function with the @contextmanager from the contextlib modele"
   ]
  },
  {
   "cell_type": "code",
   "execution_count": null,
   "id": "c6bc3088-e466-4bbd-8305-3a9b8351036b",
   "metadata": {},
   "outputs": [],
   "source": [
    "# ---------------------------------------------------------------------------------------------- #\n",
    "\n",
    "@contextlib.contextmanager                    #  5, @contextlib.contextmanager decorater\n",
    "def my_context:                               #  1, a function\n",
    "    # add any setup code you need             #  2, (optional) setup code\n",
    "    yield                                     #  3, yield keyword\n",
    "    # add any teardown code you need          #  4, teardown code\n",
    "    \n",
    "# ---------------------------------------------------------------------------------------------- #"
   ]
  },
  {
   "cell_type": "markdown",
   "id": "c2f88c71-5861-48e4-985b-2ae0bbaddcef",
   "metadata": {},
   "source": [
    "## decorators will be discuessed in next chapter\n",
    "\n",
    "\n",
    "__yield,  it means that you are going to return a value, but you expect to finish the rest of the function at some point in the future. \n",
    "\n",
    "__the value that your context manager yields can be assigned to a variable in the with statement by adding as. \n",
    "\n",
    "\n",
    "\n",
    "\n",
    "in fact, a context manager function is technically a generator that yield a single value\n",
    "\n",
    "\n",
    "\n",
    "\n",
    "### the ability for a function to yield control and know that it will get to finish running later is what makes context managers so useful. \n",
    "\n",
    "\n",
    "\n",
    "\n",
    "\n"
   ]
  },
  {
   "cell_type": "code",
   "execution_count": 53,
   "id": "3b9c20a8-65dc-4e20-9e2a-323a57e93135",
   "metadata": {},
   "outputs": [
    {
     "name": "stdout",
     "output_type": "stream",
     "text": [
      "hello\n",
      "fool is 42\n",
      "goodbye\n"
     ]
    }
   ],
   "source": [
    "import contextlib\n",
    "\n",
    "\n",
    "@contextlib.contextmanager\n",
    "def my_context():\n",
    "    print('hello')\n",
    "    \n",
    "    yield 42\n",
    "    \n",
    "    print('goodbye')\n",
    "    \n",
    "    \n",
    "with my_context() as foo:\n",
    "    print('fool is {}'.format(foo))"
   ]
  },
  {
   "cell_type": "markdown",
   "id": "3fc9a2d3-46a6-45e2-bba3-d47e43d0fce0",
   "metadata": {},
   "source": [
    "## Yielding a value or None\n",
    "\n",
    "\n",
    "\n",
    "\n",
    "__The database() context manager yields a specific value - the database connection, that can be used in the context block.  \n",
    "\n",
    "While some context manager dont yield an explicit value, in_dir() is a context manager that changes the current working directory to a specific path and then changes it back after the context block is done. It does not need to return anything with its yield statement.  "
   ]
  },
  {
   "cell_type": "code",
   "execution_count": 52,
   "id": "844e608b-a943-410a-af9d-9b031887b7b7",
   "metadata": {},
   "outputs": [
    {
     "ename": "NameError",
     "evalue": "name 'postgres' is not defined",
     "output_type": "error",
     "traceback": [
      "\u001b[0;31m---------------------------------------------------------------------------\u001b[0m",
      "\u001b[0;31mNameError\u001b[0m                                 Traceback (most recent call last)",
      "\u001b[0;32m/tmp/ipykernel_5852/40968407.py\u001b[0m in \u001b[0;36m<module>\u001b[0;34m\u001b[0m\n\u001b[1;32m     15\u001b[0m \u001b[0murl\u001b[0m \u001b[0;34m=\u001b[0m \u001b[0;34m'datacamp.com/data'\u001b[0m\u001b[0;34m\u001b[0m\u001b[0;34m\u001b[0m\u001b[0m\n\u001b[1;32m     16\u001b[0m \u001b[0;34m\u001b[0m\u001b[0m\n\u001b[0;32m---> 17\u001b[0;31m \u001b[0;32mwith\u001b[0m \u001b[0mdatabase\u001b[0m\u001b[0;34m(\u001b[0m\u001b[0murl\u001b[0m\u001b[0;34m)\u001b[0m \u001b[0;32mas\u001b[0m \u001b[0mmy_db\u001b[0m\u001b[0;34m:\u001b[0m\u001b[0;34m\u001b[0m\u001b[0;34m\u001b[0m\u001b[0m\n\u001b[0m\u001b[1;32m     18\u001b[0m     course_list = my_db.execute(\n\u001b[1;32m     19\u001b[0m     'SELECT * FROM courses')\n",
      "\u001b[0;32m/usr/lib/python3.9/contextlib.py\u001b[0m in \u001b[0;36m__enter__\u001b[0;34m(self)\u001b[0m\n\u001b[1;32m    115\u001b[0m         \u001b[0;32mdel\u001b[0m \u001b[0mself\u001b[0m\u001b[0;34m.\u001b[0m\u001b[0margs\u001b[0m\u001b[0;34m,\u001b[0m \u001b[0mself\u001b[0m\u001b[0;34m.\u001b[0m\u001b[0mkwds\u001b[0m\u001b[0;34m,\u001b[0m \u001b[0mself\u001b[0m\u001b[0;34m.\u001b[0m\u001b[0mfunc\u001b[0m\u001b[0;34m\u001b[0m\u001b[0;34m\u001b[0m\u001b[0m\n\u001b[1;32m    116\u001b[0m         \u001b[0;32mtry\u001b[0m\u001b[0;34m:\u001b[0m\u001b[0;34m\u001b[0m\u001b[0;34m\u001b[0m\u001b[0m\n\u001b[0;32m--> 117\u001b[0;31m             \u001b[0;32mreturn\u001b[0m \u001b[0mnext\u001b[0m\u001b[0;34m(\u001b[0m\u001b[0mself\u001b[0m\u001b[0;34m.\u001b[0m\u001b[0mgen\u001b[0m\u001b[0;34m)\u001b[0m\u001b[0;34m\u001b[0m\u001b[0;34m\u001b[0m\u001b[0m\n\u001b[0m\u001b[1;32m    118\u001b[0m         \u001b[0;32mexcept\u001b[0m \u001b[0mStopIteration\u001b[0m\u001b[0;34m:\u001b[0m\u001b[0;34m\u001b[0m\u001b[0;34m\u001b[0m\u001b[0m\n\u001b[1;32m    119\u001b[0m             \u001b[0;32mraise\u001b[0m \u001b[0mRuntimeError\u001b[0m\u001b[0;34m(\u001b[0m\u001b[0;34m\"generator didn't yield\"\u001b[0m\u001b[0;34m)\u001b[0m \u001b[0;32mfrom\u001b[0m \u001b[0;32mNone\u001b[0m\u001b[0;34m\u001b[0m\u001b[0;34m\u001b[0m\u001b[0m\n",
      "\u001b[0;32m/tmp/ipykernel_5852/40968407.py\u001b[0m in \u001b[0;36mdatabase\u001b[0;34m(url)\u001b[0m\n\u001b[1;32m      4\u001b[0m \u001b[0;32mdef\u001b[0m \u001b[0mdatabase\u001b[0m\u001b[0;34m(\u001b[0m\u001b[0murl\u001b[0m\u001b[0;34m)\u001b[0m\u001b[0;34m:\u001b[0m\u001b[0;34m\u001b[0m\u001b[0;34m\u001b[0m\u001b[0m\n\u001b[1;32m      5\u001b[0m     \u001b[0;31m# Setup a database connection\u001b[0m\u001b[0;34m\u001b[0m\u001b[0;34m\u001b[0m\u001b[0;34m\u001b[0m\u001b[0m\n\u001b[0;32m----> 6\u001b[0;31m     \u001b[0mdb\u001b[0m \u001b[0;34m=\u001b[0m \u001b[0mpostgres\u001b[0m\u001b[0;34m.\u001b[0m\u001b[0mconnect\u001b[0m\u001b[0;34m(\u001b[0m\u001b[0murl\u001b[0m\u001b[0;34m)\u001b[0m\u001b[0;34m\u001b[0m\u001b[0;34m\u001b[0m\u001b[0m\n\u001b[0m\u001b[1;32m      7\u001b[0m \u001b[0;34m\u001b[0m\u001b[0m\n\u001b[1;32m      8\u001b[0m     \u001b[0;32myield\u001b[0m \u001b[0mdb\u001b[0m\u001b[0;34m\u001b[0m\u001b[0;34m\u001b[0m\u001b[0m\n",
      "\u001b[0;31mNameError\u001b[0m: name 'postgres' is not defined"
     ]
    }
   ],
   "source": [
    "import contextlib\n",
    "\n",
    "@contextlib.contextmanager\n",
    "def database(url):\n",
    "    # Setup a database connection\n",
    "    db = postgres.connect(url)\n",
    "    \n",
    "    yield db\n",
    "    \n",
    "    # Teardown database connection\n",
    "    db.disconnect()\n",
    "    \n",
    "    \n",
    "    \n",
    "url = 'datacamp.com/data'\n",
    "\n",
    "with database(url) as my_db:\n",
    "    course_list = my_db.execute(\n",
    "    'SELECT * FROM courses')"
   ]
  },
  {
   "cell_type": "code",
   "execution_count": null,
   "id": "34bb9d18-9208-405a-8a2b-2749a68bd06e",
   "metadata": {},
   "outputs": [],
   "source": [
    "import contextlib\n",
    "\n",
    "@contextlib.contextmanager\n",
    "def in_dir(path):\n",
    "    # save current working directory\n",
    "    old_dir = os.getcwd()\n",
    "    \n",
    "    # switch to new working directory\n",
    "    os.chdir(path)\n",
    "    \n",
    "    yield\n",
    "    \n",
    "    # change back to previous woring directory\n",
    "    os.chdir(old_dir)\n",
    "    \n",
    "    \n",
    "    \n",
    "with in_dir('/data/project_1/'):\n",
    "    project_files = os.listdir()"
   ]
  },
  {
   "cell_type": "markdown",
   "id": "bb898ad5-b6a1-4b15-a076-b159fecf8851",
   "metadata": {},
   "source": [
    "## The timer() context manager\n",
    "\n",
    "A colleague of yours is working on a web service that processes Instagram photos. Customers are complaining that the service takes too long to identify whether or not an image has a cat in it, so your colleague has come to you for help. You decide to write a context manager that they can use to time how long their functions take to run.\n",
    "\n",
    "\n",
    "\n",
    "    Add a decorator from the contextlib module to the timer() function that will make it act like a context manager.\n",
    "    Send control from the timer() function to the context block.\n",
    "\n",
    "\n",
    "\n",
    "Hint\n",
    "\n",
    "    Remember that context managers use yield to return control to the context.\n",
    "    timer() does not return a specific value when it yields control.\n"
   ]
  },
  {
   "cell_type": "code",
   "execution_count": 26,
   "id": "05e3b943-d7b4-48ad-8235-e47ba8e50598",
   "metadata": {},
   "outputs": [
    {
     "name": "stdout",
     "output_type": "stream",
     "text": [
      "This should take approximately 0.25 seconds\n",
      "Elapsed: 0.2504702s\n"
     ]
    }
   ],
   "source": [
    "# Add a decorator that will make timer() a context manager\n",
    "import contextlib, time\n",
    "\n",
    "@contextlib.contextmanager\n",
    "def timer():\n",
    "    \"\"\"Time the execution of a context block.\n",
    "    \n",
    "    Yields:\n",
    "      None\n",
    "    \"\"\"\n",
    "    start = time.time()\n",
    "    # Send control back to the context block\n",
    "    yield\n",
    "    end = time.time()\n",
    "    print('Elapsed: {:.7f}s'.format(end - start))    # {:.3f}, 0.3 means 3 figure after dot, f mean cut\n",
    "\n",
    "with timer():\n",
    "    print('This should take approximately 0.25 seconds')\n",
    "    time.sleep(0.25)"
   ]
  },
  {
   "cell_type": "code",
   "execution_count": 47,
   "id": "887db9ae-b4ab-42be-9399-095115db01f9",
   "metadata": {},
   "outputs": [
    {
     "name": "stdout",
     "output_type": "stream",
     "text": [
      "Cat version\n",
      "Elapsed: 0.014626s\n",
      "Alice version\n",
      "Elapsed: 0.0098631s\n",
      "Rabbit version\n",
      "Elapsed: 0.011377s\n"
     ]
    }
   ],
   "source": [
    "# Add a decorator that will make timer() a context manager\n",
    "import contextlib, time\n",
    "\n",
    "@contextlib.contextmanager\n",
    "def timer():\n",
    "    \"\"\"Time the execution of a context block.\n",
    "    \n",
    "    Yields:\n",
    "      None\n",
    "    \"\"\"\n",
    "    \n",
    "    start = time.time()\n",
    "    # Send control back to the context block\n",
    "    yield\n",
    "    end = time.time()\n",
    "    print('Elapsed: {:.5}s'.format(end - start))\n",
    "    \n",
    "    \n",
    "\n",
    "def count_cat(path, count=0):\n",
    "    \n",
    "    with open(path) as file:\n",
    "        content = file.read()\n",
    "        \n",
    "        for word in content.split():\n",
    "            if word.lower() in ['cat', 'cats', \"cat's\"]:\n",
    "                count += 1\n",
    "            \n",
    "    return count\n",
    "\n",
    "\n",
    "\n",
    "def count_alice(path, count=0):\n",
    "    \n",
    "    with open(path) as file:\n",
    "        content = file.read()\n",
    "        \n",
    "        for word in content.split():\n",
    "            if word.lower() in ['alice', \"alice's\"]:\n",
    "                count += 1\n",
    "            \n",
    "    return count\n",
    "\n",
    "\n",
    "\n",
    "def count_rabbit(path, count=0):\n",
    "    \n",
    "    with open(path) as file:\n",
    "        content = file.read()\n",
    "        \n",
    "        for word in content.split():\n",
    "            if word.lower() in [\"rabbit's\", 'rabbit']:\n",
    "                count += 1\n",
    "                \n",
    "        return count\n",
    "\n",
    "\n",
    "\n",
    "path = 'alice_in_wonderland.txt'\n",
    "\n",
    "# Time how long process_with_numpy(image) takes to run\n",
    "with timer():\n",
    "    print('Cat version')\n",
    "    count_cat(path)\n",
    "\n",
    "# Time how long process_with_pytorch(image) takes to run\n",
    "with timer():\n",
    "    print('Alice version')\n",
    "    count_alice(path)\n",
    "    \n",
    "# Time how long process_with_pytorch(image) takes to run\n",
    "with timer():\n",
    "    print('Rabbit version')\n",
    "    count_rabbit(path)"
   ]
  },
  {
   "cell_type": "markdown",
   "id": "a7af800c-dd27-45f0-80ab-cc002d5413ae",
   "metadata": {},
   "source": [
    "## A read-only open() context manager\n",
    "\n",
    "You have a bunch of data files for your next deep learning project that took you months to collect and clean. It would be terrible if you accidentally overwrote one of those files when trying to read it in for training, so you decide to create a read-only version of the open() context manager to use in your project.\n",
    "\n",
    "The regular open() context manager:\n",
    "\n",
    "    takes a filename and a mode ('r' for read, 'w' for write, or 'a' for append)\n",
    "    opens the file for reading, writing, or appending\n",
    "    yields control back to the context, along with a reference to the file\n",
    "    waits for the context to finish\n",
    "    and then closes the file before exiting\n",
    "\n",
    "Your context manager will do the same thing, except it will only take the filename as an argument and it will only open the file for reading.\n",
    "\n",
    "\n",
    "\n",
    "\n",
    "    Yield control from open_read_only() to the context block, ensuring that the read_only_file object gets assigned to my_file.\n",
    "    Use read_only_file's .close() method to ensure that you don't leave open files lying around.\n",
    "\n",
    "Hint\n",
    "\n",
    "    The open() function creates a reference to a file.\n",
    "    The function open_read_only() should send that file back to the context.\n",
    "    You close a file with the .close() method of a file object.\n"
   ]
  },
  {
   "cell_type": "code",
   "execution_count": 55,
   "id": "be9b57ed-6829-47cd-8bb2-56c3673f91f0",
   "metadata": {},
   "outputs": [
    {
     "name": "stdout",
     "output_type": "stream",
     "text": [
      "hello, john hhu, this is a test file for class method\n",
      "\n",
      "Alice's Adventures in Wonderland\n",
      "\n"
     ]
    }
   ],
   "source": [
    "@contextlib.contextmanager\n",
    "def open_read_only(filename):\n",
    "    \"\"\"Open a file in read-only mode.\n",
    "\n",
    "    Args:\n",
    "      filename (str): The location of the file to read\n",
    "\n",
    "    Yields:\n",
    "      file object\n",
    "    \"\"\"\n",
    "    read_only_file = open(filename, mode='r')\n",
    "    # Yield read_only_file so it can be assigned to my_file\n",
    "    yield read_only_file\n",
    "    # Close read_only_file\n",
    "    read_only_file.close()\n",
    "\n",
    "    \n",
    "with open_read_only('hello.txt') as my_file:\n",
    "    print(my_file.read())\n",
    "    \n",
    "    \n",
    "    \n",
    "with open_read_only('alice_in_wonderland.txt') as my_file:\n",
    "    print(my_file.readline())"
   ]
  },
  {
   "cell_type": "markdown",
   "id": "cab7443f-a96f-4f68-b44a-eab0996f25bb",
   "metadata": {},
   "source": [
    "## Advanced topics\n",
    "\n",
    "\n",
    "\n",
    "\n",
    "In this lesson, we'll cover nested context, handing errors, and how to know when to create a context manager. \n",
    "\n",
    "\n",
    "Image you are immplementation this copy() function that copies the contents of one file to another file. One way you could write this function would be to open & read the source file, read the content and stored the content file into content variable, then open & write the destination file, and write the vontent into it. \n",
    "\n",
    "## This approach works fine, untill we try to copy a file that is too large to fit in memory. \n",
    "\n",
    "\n",
    "\n",
    "The better idea would be open both file at once, and copy over one line at a time. The file object that the open() context manager return can be iterated over in a for loop. The statement \"for line in my_file\" will read in the contents of my_file one line at a time, untill the end of the file\n",
    "\n",
    "\n",
    "with open('abc.txt') as my_file:\n",
    "    for line in my_file:\n",
    "        # do something here"
   ]
  },
  {
   "cell_type": "code",
   "execution_count": 57,
   "id": "862cf11c-62d7-4e1d-84b4-ef1cf28dd53b",
   "metadata": {},
   "outputs": [],
   "source": [
    "def copy(src, dst):\n",
    "    \"\"\"Copy the contents of one file into another\n",
    "    \n",
    "    Args:\n",
    "      src (str): File name of source to be copied\n",
    "      dst (str): File name of new file\n",
    "    \"\"\"\n",
    "    \n",
    "    # Open the source file and read in the contents\n",
    "    with open(src, 'r') as f_src:\n",
    "        content = f_src.read()\n",
    "        \n",
    "    # Open the destination file and write out the content\n",
    "    with open(dst, 'a') as f_dst:\n",
    "        f_dst.write(content)\n",
    "    \n",
    "    \n",
    "    \n",
    "copy('abc.txt', 'ABC.txt')"
   ]
  },
  {
   "cell_type": "code",
   "execution_count": 62,
   "id": "64278646-0711-4f9f-8a92-3375bd756e8e",
   "metadata": {},
   "outputs": [],
   "source": [
    "def copy(src, dst):\n",
    "    \"\"\"Copy the contents of one file into another\n",
    "    \n",
    "    Args:\n",
    "      src (str): File name of source to be copied\n",
    "      dst (str): File name of new file\n",
    "    \"\"\"\n",
    "    \n",
    "    # Open the source file and read in the contents\n",
    "    with open(src, 'r') as f_src:\n",
    "        with open(dst, 'a') as f_dst:  # Then open the destnation file inside the source file's context\n",
    "            for line in f_src:  \n",
    "                \n",
    "                # That means the code runs inside open destionation file has access both f_sr and f_dst\n",
    "                f_dst.write(line)    \n",
    "    \n",
    "    \n",
    "copy('abc.txt', 'ABC.txt')"
   ]
  },
  {
   "cell_type": "markdown",
   "id": "7e0231d3-68d1-4324-bc4b-e7c18627aa76",
   "metadata": {},
   "source": [
    "## Handling errors\n",
    "\n",
    "\n",
    "\n",
    "One thing you want to think about when writting your context manager is : What happens if the programmer who uses your contextmanager writes code taht causes an error? \n",
    "\n",
    "\n"
   ]
  },
  {
   "cell_type": "code",
   "execution_count": null,
   "id": "7ae2bc0f-ab0e-4471-9864-16e698d10042",
   "metadata": {},
   "outputs": [],
   "source": [
    "def get_printer(ip):\n",
    "    p = connect_to_printer(ip)\n",
    "    \n",
    "    yield\n",
    "    \n",
    "    # This MUST be called or no one else will be able to connect to the printer \n",
    "    p.disconnected\n",
    "    print('disconnected from the printer')\n",
    "    \n",
    "    \n",
    "    \n",
    "    \n",
    "doc = {\"text\": \"This is my text\"}\n",
    "    \n",
    "with get_printer('10.0.34.111') as printer:\n",
    "    printer.print_page(doc['txt'])  \n",
    "    # ---------------------------------------------------------------------------------------------- #\n",
    "    # <= this will raise a KeyError, hence the code stops here and p.disconnected doesnt get called\n",
    "    \n",
    "    \n",
    "    "
   ]
  },
  {
   "cell_type": "markdown",
   "id": "03646888-0fe6-4e8c-a4f5-4977b3e7b5b3",
   "metadata": {},
   "source": [
    "## Handing errors\n",
    "\n",
    "\n",
    "\n",
    "try:\n",
    "    # code that might raise exception\n",
    "    \n",
    "except:\n",
    "    # do something about errors\n",
    "    \n",
    "finally:\n",
    "    # this code block runs no matter what\n",
    "    \n",
    "    \n",
    "    \n",
    "    \n",
    "## Python OOP Course notes:\n",
    "# --------------------------------------------------------------------------------------- #\n",
    "try:\n",
    "    # try running some code or program\n",
    "    \n",
    "except ExceptionNameHere:\n",
    "    # run this code if ExceptionNameHere happened\n",
    "    \n",
    "except AnotherExceptionNameHere:\n",
    "    # run this code if AnotherExceptionNameHere happened\n",
    "    \n",
    "......\n",
    "    \n",
    "finally:        # <= this is optional\n",
    "    # run this code no matter what\n",
    "    # this code block is best used for cleaning up, like closing open files. "
   ]
  },
  {
   "cell_type": "code",
   "execution_count": null,
   "id": "54569b9d-be8f-4d7e-b62c-280dff19c68c",
   "metadata": {},
   "outputs": [],
   "source": [
    "import contextlib\n",
    "\n",
    "@contextlib.contextmanager\n",
    "def get_printer(ip):\n",
    "    p = connect_to_printer(ip)\n",
    "    \n",
    "    \n",
    "    try:\n",
    "        yield\n",
    "        \n",
    "    # except\n",
    "    \n",
    "    finally:\n",
    "        p.disconnect()\n",
    "        print('disconnected from the printer')\n",
    "    "
   ]
  },
  {
   "cell_type": "markdown",
   "id": "6a748965-4be0-4e26-9150-da10ff69772d",
   "metadata": {},
   "source": [
    "## When the sloopy programmer runs the code, they still get the KeyError, but finally ensured that p.disconnect() is called before the error is raced.  "
   ]
  },
  {
   "cell_type": "code",
   "execution_count": null,
   "id": "1727e4fc-f8db-4d2f-8258-b23a75ed7bac",
   "metadata": {},
   "outputs": [],
   "source": [
    "import contextlib\n",
    "\n",
    "@contextlib.contextmanager\n",
    "def get_printer(ip):\n",
    "    p = connect_to _printer(ip)\n",
    "    \n",
    "    try:\n",
    "        yield\n",
    "        \n",
    "    finally:\n",
    "        p.disconnected()\n",
    "        print('disconnected from the printer')\n",
    "        \n",
    "        \n",
    "        \n",
    "doc = {\"text\": \"This is my text\"}\n",
    "        \n",
    "with get_printer(ip) as printer:\n",
    "    printer.print_page(doc[\"text\"])"
   ]
  },
  {
   "cell_type": "code",
   "execution_count": 49,
   "id": "fc724ee9-0c0c-485d-89fb-69ef941db87e",
   "metadata": {
    "tags": []
   },
   "outputs": [
    {
     "data": {
      "text/plain": [
       "123"
      ]
     },
     "execution_count": 49,
     "metadata": {},
     "output_type": "execute_result"
    }
   ],
   "source": [
    "def print_file(path):\n",
    "    with open(path, 'r') as file:\n",
    "        text = file.read()\n",
    "        \n",
    "    return {path: text}   # how dictionary was used in function output? expecially in production env\n",
    "\n",
    "\n",
    "\n",
    "path = 'alice_in_wonderland.txt'\n",
    "\n",
    "alice = print_file(path)\n",
    "\n",
    "alice['test'] = 123\n",
    "alice['test']"
   ]
  },
  {
   "cell_type": "code",
   "execution_count": 15,
   "id": "02a47e55-38d3-41ca-af23-49757607432a",
   "metadata": {},
   "outputs": [
    {
     "data": {
      "text/plain": [
       "\u001b[0;31mType:\u001b[0m        str\n",
       "\u001b[0;31mString form:\u001b[0m\n",
       "Alice's Adventures in Wonderland\n",
       "           \n",
       "           ALICE'S ADVENTURES IN WONDERLAND\n",
       "           \n",
       "           <...>\n",
       "           remembering her own child-life, and the happy summer days.\n",
       "           \n",
       "           THE END\n",
       "\u001b[0;31mLength:\u001b[0m      148574\n",
       "\u001b[0;31mDocstring:\u001b[0m  \n",
       "str(object='') -> str\n",
       "str(bytes_or_buffer[, encoding[, errors]]) -> str\n",
       "\n",
       "Create a new string object from the given object. If encoding or\n",
       "errors is specified, then the object must expose a data buffer\n",
       "that will be decoded using the given encoding and error handler.\n",
       "Otherwise, returns the result of object.__str__() (if defined)\n",
       "or repr(object).\n",
       "encoding defaults to sys.getdefaultencoding().\n",
       "errors defaults to 'strict'.\n"
      ]
     },
     "metadata": {},
     "output_type": "display_data"
    }
   ],
   "source": [
    "\n",
    "import contextlib\n",
    "\n",
    "@contextlib.contextmanager\n",
    "def get_printer(ip):\n",
    "    p = connect_to_printer(ip)\n",
    "    \n",
    "    yield\n",
    "    \n",
    "    # This MUST be called or no one else will be able to connect to the printer \n",
    "    p.disconnected\n",
    "    print('disconnected from the printer')\n",
    "    \n",
    "    \n",
    "    \n",
    "doc = 'alice_in_wonderland.txt'\n",
    "\n",
    "with open(doc, 'r') as file:\n",
    "    content = file.read()\n",
    "    \n",
    "    #return {doc: content}\n",
    "    \n",
    "    \n",
    "    \n",
    "#def doc_print(doc):\n",
    "#    with open(doc, 'r') as file:\n",
    "#        content = file.read()\n",
    "#        \n",
    "#    return {doc, content}\n",
    "    \n",
    "    \n",
    "    \n",
    "#print(content)\n",
    "#content\n",
    "?content\n",
    "\n",
    "#doc_print(doc)\n",
    "    \n",
    "\n",
    "#doc = {\"text\": \"This is my text\"}\n",
    "#    \n",
    "#with get_printer('10.0.34.111') as printer:\n",
    "#    printer.print_page(doc['text'])"
   ]
  },
  {
   "cell_type": "code",
   "execution_count": 23,
   "id": "95cf3563-1d96-4a62-961f-e950f228cb68",
   "metadata": {},
   "outputs": [],
   "source": [
    "def doc_print(doc):\n",
    "    with open(doc, 'r') as file:\n",
    "        content = file.read()\n",
    "        \n",
    "    return {doc, content}\n",
    "    #return doc, content\n",
    "    \n",
    "    \n",
    "    \n",
    "doc = 'alice_in_wonderland.txt'\n",
    "    \n",
    "#print(content)\n",
    "#content\n",
    "\n",
    "#doc_print(doc)"
   ]
  },
  {
   "cell_type": "code",
   "execution_count": null,
   "id": "d31f11bb-9aee-489b-9dca-6b59bc770cad",
   "metadata": {},
   "outputs": [],
   "source": []
  },
  {
   "cell_type": "code",
   "execution_count": null,
   "id": "d95690e6-e513-44f7-a30e-af9c6f45ff4e",
   "metadata": {},
   "outputs": [],
   "source": []
  },
  {
   "cell_type": "code",
   "execution_count": null,
   "id": "a52fdb7d-18d3-4ecd-9ad5-60384e99f1e5",
   "metadata": {},
   "outputs": [],
   "source": []
  },
  {
   "cell_type": "code",
   "execution_count": null,
   "id": "161dcf14-9ced-49df-afdf-1b23ef84f9fc",
   "metadata": {},
   "outputs": [],
   "source": []
  },
  {
   "cell_type": "code",
   "execution_count": null,
   "id": "da56c1f7-03a7-4128-9d51-c3f1fa11baed",
   "metadata": {},
   "outputs": [],
   "source": []
  },
  {
   "cell_type": "code",
   "execution_count": null,
   "id": "bf79315b-a9b8-48dc-b077-12cf60bad640",
   "metadata": {},
   "outputs": [],
   "source": []
  },
  {
   "cell_type": "code",
   "execution_count": null,
   "id": "a0c21057-4fac-40b8-9e78-d6ce35a23dd2",
   "metadata": {},
   "outputs": [],
   "source": []
  },
  {
   "cell_type": "code",
   "execution_count": null,
   "id": "fb9e3178-197a-46d9-a52a-463805b8079c",
   "metadata": {},
   "outputs": [],
   "source": []
  },
  {
   "cell_type": "code",
   "execution_count": null,
   "id": "6c6e98c0-eab2-4c56-9255-6df0a95ab659",
   "metadata": {},
   "outputs": [],
   "source": []
  },
  {
   "cell_type": "code",
   "execution_count": null,
   "id": "86dcdc9f-c1e0-4151-b434-3ed4f1519c9c",
   "metadata": {},
   "outputs": [],
   "source": []
  },
  {
   "cell_type": "code",
   "execution_count": null,
   "id": "733f3a3e-9090-427b-b090-48bdd3984834",
   "metadata": {},
   "outputs": [],
   "source": []
  },
  {
   "cell_type": "code",
   "execution_count": null,
   "id": "d9c609ac-2793-4b03-b1f6-cbb72671dcb5",
   "metadata": {},
   "outputs": [],
   "source": []
  },
  {
   "cell_type": "code",
   "execution_count": null,
   "id": "f47edb06-41e1-433f-b87c-7a776042a51c",
   "metadata": {},
   "outputs": [],
   "source": []
  },
  {
   "cell_type": "code",
   "execution_count": null,
   "id": "a5a414c9-9a2f-40d5-ba5c-23f43cbacc51",
   "metadata": {},
   "outputs": [],
   "source": []
  },
  {
   "cell_type": "code",
   "execution_count": null,
   "id": "40ca8790-3e14-456c-a012-75a4875df9e6",
   "metadata": {},
   "outputs": [],
   "source": []
  },
  {
   "cell_type": "code",
   "execution_count": null,
   "id": "f6f7ef2c-6620-4cd8-927b-1ffca8b7c43f",
   "metadata": {},
   "outputs": [],
   "source": []
  }
 ],
 "metadata": {
  "kernelspec": {
   "display_name": "Python 3 (ipykernel)",
   "language": "python",
   "name": "python3"
  },
  "language_info": {
   "codemirror_mode": {
    "name": "ipython",
    "version": 3
   },
   "file_extension": ".py",
   "mimetype": "text/x-python",
   "name": "python",
   "nbconvert_exporter": "python",
   "pygments_lexer": "ipython3",
   "version": "3.9.2"
  }
 },
 "nbformat": 4,
 "nbformat_minor": 5
}
